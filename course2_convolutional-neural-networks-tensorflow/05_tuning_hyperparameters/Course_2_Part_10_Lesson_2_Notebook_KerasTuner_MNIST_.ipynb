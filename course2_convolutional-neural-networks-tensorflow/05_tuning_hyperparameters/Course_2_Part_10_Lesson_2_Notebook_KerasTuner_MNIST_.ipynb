{
 "cells": [
  {
   "cell_type": "markdown",
   "id": "material-pillow",
   "metadata": {},
   "source": [
    "## Step1. Setup"
   ]
  },
  {
   "cell_type": "code",
   "execution_count": 2,
   "id": "portable-committee",
   "metadata": {},
   "outputs": [
    {
     "name": "stdout",
     "output_type": "stream",
     "text": [
      "3.8.0\n"
     ]
    }
   ],
   "source": [
    "from platform import python_version\n",
    "print(python_version())"
   ]
  },
  {
   "cell_type": "code",
   "execution_count": 3,
   "id": "cubic-insight",
   "metadata": {},
   "outputs": [
    {
     "name": "stdout",
     "output_type": "stream",
     "text": [
      "2.4.1\n"
     ]
    }
   ],
   "source": [
    "import tensorflow as tf\n",
    "from tensorflow import keras\n",
    "import matplotlib.pyplot as plt\n",
    "print(tf.__version__)"
   ]
  },
  {
   "cell_type": "code",
   "execution_count": 4,
   "id": "handed-creation",
   "metadata": {},
   "outputs": [],
   "source": [
    "### install keras-tuner\n",
    "## python3 -m pip install --user keras-tuner \n",
    "import kerastuner as kt"
   ]
  },
  {
   "cell_type": "markdown",
   "id": "loaded-essay",
   "metadata": {},
   "source": [
    "## Step 2. Download and prepare the dataset \n",
    "\n",
    "we will use the Fashion MNIST dataset, ie. images of clothing. "
   ]
  },
  {
   "cell_type": "code",
   "execution_count": 64,
   "id": "attached-imaging",
   "metadata": {},
   "outputs": [],
   "source": [
    "(img_train, label_train), (img_test, label_test) = keras.datasets.fashion_mnist.load_data()"
   ]
  },
  {
   "cell_type": "code",
   "execution_count": 65,
   "id": "common-recall",
   "metadata": {},
   "outputs": [
    {
     "name": "stdout",
     "output_type": "stream",
     "text": [
      "No of train images:  (60000, 28, 28)\n",
      "No of test images:  (10000, 28, 28)\n",
      "label format for trainig: (60000,)\n",
      "label format for testing: (10000,)\n"
     ]
    }
   ],
   "source": [
    "## lets check the number of train/test images\n",
    "print('No of train images: ', img_train.shape)\n",
    "print('No of test images: ', img_test.shape)\n",
    "print('label format for trainig:', label_train.shape)\n",
    "print('label format for testing:', label_test.shape)"
   ]
  },
  {
   "cell_type": "code",
   "execution_count": 66,
   "id": "speaking-harris",
   "metadata": {},
   "outputs": [
    {
     "name": "stdout",
     "output_type": "stream",
     "text": [
      "Label of indx 2201 :  2\n"
     ]
    },
    {
     "data": {
      "image/png": "[encoded data removed]",
      "text/plain": [
       "<Figure size 432x288 with 1 Axes>"
      ]
     },
     "metadata": {
      "needs_background": "light"
     },
     "output_type": "display_data"
    }
   ],
   "source": [
    "## Lets visualize the dataset\n",
    "import matplotlib.pyplot as plt\n",
    "\n",
    "indx=2201\n",
    "plt.imshow(img_train[indx])\n",
    "print('Label of indx',indx,': ',label_train[indx])"
   ]
  },
  {
   "cell_type": "code",
   "execution_count": 67,
   "id": "paperback-orlando",
   "metadata": {},
   "outputs": [],
   "source": [
    "## Normalize the dataset\n",
    "img_train = img_train.astype('float32')/255.0\n",
    "img_test = img_test.astype('float32')/255.0"
   ]
  },
  {
   "cell_type": "markdown",
   "id": "usual-prevention",
   "metadata": {},
   "source": [
    "## Step 3. Define the model\n",
    "\n",
    "while building a model for hypertuning, one should define the hyperparamet search spave in addition to the model architecture.\n",
    "The model setup for hypertuning is called a hypermodel. It could be defined through two approaches:\n",
    "    \n",
    "    * By using a model builder function\n",
    "    * By subclassing the HyperModel class of the Keras Tuner API"
   ]
  },
  {
   "cell_type": "code",
   "execution_count": 68,
   "id": "spare-boundary",
   "metadata": {},
   "outputs": [],
   "source": [
    "def model_builder(hp):\n",
    "    model = keras.Sequential()\n",
    "    model.add(keras.layers.Flatten(input_shape=(28, 28)))\n",
    "\n",
    "    # Tune the number of units in the first Dense layer\n",
    "    # Choose an optimal value between 32-512\n",
    "    hp_units = hp.Int('units', min_value=32, max_value=512, step=32)\n",
    "    model.add(keras.layers.Dense(units=hp_units, activation='relu'))\n",
    "    model.add(keras.layers.Dense(10))\n",
    "\n",
    "    # Tune the learning rate for the optimizer\n",
    "    # Choose an optimal value from 0.01, 0.001, or 0.0001\n",
    "    hp_learning_rate = hp.Choice('learning_rate', values=[1e-2, 1e-3, 1e-4])\n",
    "\n",
    "    model.compile(optimizer=keras.optimizers.Adam(learning_rate=hp_learning_rate),\n",
    "                loss=keras.losses.SparseCategoricalCrossentropy(from_logits=True),\n",
    "                metrics=['accuracy'])\n",
    "\n",
    "    return model"
   ]
  },
  {
   "cell_type": "markdown",
   "id": "democratic-incidence",
   "metadata": {},
   "source": [
    "### Instentiate the tuner and perform hypertuning\n",
    "\n",
    "1. keras tuner has four tuners: RandomSearch, Hyperband, BayesianOptimization and Sklearn\n",
    "2. To instentiate the Hyperband tuner, one must specify the hypermodel, the 'pobjective' to optimize and the  maximum number of epoches to train 'max_epochs'"
   ]
  },
  {
   "cell_type": "code",
   "execution_count": 69,
   "id": "secondary-subscriber",
   "metadata": {},
   "outputs": [],
   "source": [
    "## ?kt.Hyperband"
   ]
  },
  {
   "cell_type": "code",
   "execution_count": 70,
   "id": "legislative-shopper",
   "metadata": {},
   "outputs": [
    {
     "name": "stdout",
     "output_type": "stream",
     "text": [
      "INFO:tensorflow:Reloading Oracle from existing project my_dir/intro_to_tuning/oracle.json\n"
     ]
    }
   ],
   "source": [
    "tuner = kt.Hyperband(model_builder, \n",
    "                    objective='val_accuracy',\n",
    "                    max_epochs=10,\n",
    "                    factor=3, # Int. Reduction factor for the number of epochs/number of models for each bracket.\n",
    "                    directory='my_dir',\n",
    "                    project_name='intro_to_tuning')"
   ]
  },
  {
   "cell_type": "code",
   "execution_count": 71,
   "id": "considerable-switch",
   "metadata": {},
   "outputs": [],
   "source": [
    "stop_early = tf.keras.callbacks.EarlyStopping(monitor='val_loss', patience=5)"
   ]
  },
  {
   "cell_type": "code",
   "execution_count": 72,
   "id": "freelance-medicaid",
   "metadata": {},
   "outputs": [
    {
     "name": "stdout",
     "output_type": "stream",
     "text": [
      "Trial 30 Complete [00h 00m 36s]\n",
      "val_accuracy: 0.8549166917800903\n",
      "\n",
      "Best val_accuracy So Far: 0.890666663646698\n",
      "Total elapsed time: 00h 05m 52s\n",
      "INFO:tensorflow:Oracle triggered exit\n",
      "\n",
      "The Optimal number of units in the first dense layeer is 224 and \n",
      "the optimal learning rate for the optimal learning_rate is 0.001\n"
     ]
    }
   ],
   "source": [
    "tuner.search(img_train, label_train, epochs=50, validation_split=0.2, callbacks=[stop_early])\n",
    "\n",
    "## get the optimal hyperparameters\n",
    "best_hps=tuner.get_best_hyperparameters(num_trials=1)[0]\n",
    "\n",
    "print(f\"\"\"\n",
    "The Optimal number of units in the first dense layeer is {best_hps.get('units')} and \n",
    "the optimal learning rate for the optimal learning_rate is {best_hps.get('learning_rate')}\"\"\")"
   ]
  },
  {
   "cell_type": "markdown",
   "id": "african-titanium",
   "metadata": {},
   "source": [
    "## Step 4. Train the Model\n",
    "\n",
    "Find the optimal number of epoches to train the model with the hyperparameter obrained from the search.\n",
    "\n"
   ]
  },
  {
   "cell_type": "code",
   "execution_count": 73,
   "id": "white-promise",
   "metadata": {},
   "outputs": [
    {
     "name": "stdout",
     "output_type": "stream",
     "text": [
      "Epoch 1/50\n",
      "1500/1500 [==============================] - 2s 1ms/step - loss: 0.6350 - accuracy: 0.7783 - val_loss: 0.4226 - val_accuracy: 0.8429\n",
      "Epoch 2/50\n",
      "1500/1500 [==============================] - 2s 1ms/step - loss: 0.3845 - accuracy: 0.8587 - val_loss: 0.3594 - val_accuracy: 0.8686\n",
      "Epoch 3/50\n",
      "1500/1500 [==============================] - 2s 1ms/step - loss: 0.3386 - accuracy: 0.8768 - val_loss: 0.3565 - val_accuracy: 0.8738\n",
      "Epoch 4/50\n",
      "1500/1500 [==============================] - 2s 2ms/step - loss: 0.3096 - accuracy: 0.8856 - val_loss: 0.3318 - val_accuracy: 0.8805\n",
      "Epoch 5/50\n",
      "1500/1500 [==============================] - 2s 2ms/step - loss: 0.2963 - accuracy: 0.8911 - val_loss: 0.3365 - val_accuracy: 0.8796\n",
      "Epoch 6/50\n",
      "1500/1500 [==============================] - 2s 2ms/step - loss: 0.2762 - accuracy: 0.8972 - val_loss: 0.3232 - val_accuracy: 0.8860\n",
      "Epoch 7/50\n",
      "1500/1500 [==============================] - 2s 2ms/step - loss: 0.2609 - accuracy: 0.9025 - val_loss: 0.3162 - val_accuracy: 0.8867\n",
      "Epoch 8/50\n",
      "1500/1500 [==============================] - 3s 2ms/step - loss: 0.2477 - accuracy: 0.9089 - val_loss: 0.3265 - val_accuracy: 0.8832\n",
      "Epoch 9/50\n",
      "1500/1500 [==============================] - 2s 2ms/step - loss: 0.2418 - accuracy: 0.9084 - val_loss: 0.3342 - val_accuracy: 0.8858\n",
      "Epoch 10/50\n",
      "1500/1500 [==============================] - 2s 1ms/step - loss: 0.2272 - accuracy: 0.9152 - val_loss: 0.3290 - val_accuracy: 0.8857\n",
      "Epoch 11/50\n",
      "1500/1500 [==============================] - 2s 1ms/step - loss: 0.2190 - accuracy: 0.9190 - val_loss: 0.3387 - val_accuracy: 0.8842\n",
      "Epoch 12/50\n",
      "1500/1500 [==============================] - 2s 1ms/step - loss: 0.2140 - accuracy: 0.9215 - val_loss: 0.3165 - val_accuracy: 0.8913\n",
      "Epoch 13/50\n",
      "1500/1500 [==============================] - 2s 2ms/step - loss: 0.2053 - accuracy: 0.9210 - val_loss: 0.3368 - val_accuracy: 0.8851\n",
      "Epoch 14/50\n",
      "1500/1500 [==============================] - 2s 1ms/step - loss: 0.2001 - accuracy: 0.9244 - val_loss: 0.3193 - val_accuracy: 0.8923\n",
      "Epoch 15/50\n",
      "1500/1500 [==============================] - 2s 1ms/step - loss: 0.1973 - accuracy: 0.9269 - val_loss: 0.3454 - val_accuracy: 0.8868\n",
      "Epoch 16/50\n",
      "1500/1500 [==============================] - 2s 1ms/step - loss: 0.1883 - accuracy: 0.9292 - val_loss: 0.3363 - val_accuracy: 0.8866\n",
      "Epoch 17/50\n",
      "1500/1500 [==============================] - 2s 1ms/step - loss: 0.1821 - accuracy: 0.9319 - val_loss: 0.3385 - val_accuracy: 0.8921\n",
      "Epoch 18/50\n",
      "1500/1500 [==============================] - 2s 1ms/step - loss: 0.1738 - accuracy: 0.9345 - val_loss: 0.3344 - val_accuracy: 0.8917\n",
      "Epoch 19/50\n",
      "1500/1500 [==============================] - 2s 1ms/step - loss: 0.1640 - accuracy: 0.9394 - val_loss: 0.3321 - val_accuracy: 0.8950\n",
      "Epoch 20/50\n",
      "1500/1500 [==============================] - 2s 1ms/step - loss: 0.1612 - accuracy: 0.9397 - val_loss: 0.3479 - val_accuracy: 0.8896\n",
      "Epoch 21/50\n",
      "1500/1500 [==============================] - 2s 1ms/step - loss: 0.1597 - accuracy: 0.9405 - val_loss: 0.3332 - val_accuracy: 0.8932\n",
      "Epoch 22/50\n",
      "1500/1500 [==============================] - 2s 1ms/step - loss: 0.1540 - accuracy: 0.9417 - val_loss: 0.3445 - val_accuracy: 0.8929\n",
      "Epoch 23/50\n",
      "1500/1500 [==============================] - 2s 1ms/step - loss: 0.1505 - accuracy: 0.9442 - val_loss: 0.3471 - val_accuracy: 0.8946\n",
      "Epoch 24/50\n",
      "1500/1500 [==============================] - 2s 1ms/step - loss: 0.1446 - accuracy: 0.9443 - val_loss: 0.3725 - val_accuracy: 0.8909\n",
      "Epoch 25/50\n",
      "1500/1500 [==============================] - 2s 1ms/step - loss: 0.1410 - accuracy: 0.9469 - val_loss: 0.3701 - val_accuracy: 0.8924\n",
      "Epoch 26/50\n",
      "1500/1500 [==============================] - 2s 1ms/step - loss: 0.1406 - accuracy: 0.9479 - val_loss: 0.3714 - val_accuracy: 0.8889\n",
      "Epoch 27/50\n",
      "1500/1500 [==============================] - 2s 1ms/step - loss: 0.1340 - accuracy: 0.9497 - val_loss: 0.4027 - val_accuracy: 0.8872\n",
      "Epoch 28/50\n",
      "1500/1500 [==============================] - 2s 1ms/step - loss: 0.1298 - accuracy: 0.9517 - val_loss: 0.3966 - val_accuracy: 0.8892\n",
      "Epoch 29/50\n",
      "1500/1500 [==============================] - 2s 1ms/step - loss: 0.1267 - accuracy: 0.9525 - val_loss: 0.4011 - val_accuracy: 0.8892\n",
      "Epoch 30/50\n",
      "1500/1500 [==============================] - 2s 1ms/step - loss: 0.1219 - accuracy: 0.9540 - val_loss: 0.3885 - val_accuracy: 0.8913\n",
      "Epoch 31/50\n",
      "1500/1500 [==============================] - 2s 1ms/step - loss: 0.1224 - accuracy: 0.9548 - val_loss: 0.4003 - val_accuracy: 0.8892\n",
      "Epoch 32/50\n",
      "1500/1500 [==============================] - 2s 1ms/step - loss: 0.1161 - accuracy: 0.9565 - val_loss: 0.3812 - val_accuracy: 0.8917\n",
      "Epoch 33/50\n",
      "1500/1500 [==============================] - 2s 1ms/step - loss: 0.1116 - accuracy: 0.9577 - val_loss: 0.4104 - val_accuracy: 0.8903\n",
      "Epoch 34/50\n",
      "1500/1500 [==============================] - 2s 1ms/step - loss: 0.1075 - accuracy: 0.9594 - val_loss: 0.4289 - val_accuracy: 0.8881\n",
      "Epoch 35/50\n",
      "1500/1500 [==============================] - 2s 1ms/step - loss: 0.1057 - accuracy: 0.9611 - val_loss: 0.4065 - val_accuracy: 0.8931\n",
      "Epoch 36/50\n",
      "1500/1500 [==============================] - 2s 1ms/step - loss: 0.1025 - accuracy: 0.9615 - val_loss: 0.4179 - val_accuracy: 0.8889\n",
      "Epoch 37/50\n",
      "1500/1500 [==============================] - 2s 1ms/step - loss: 0.1028 - accuracy: 0.9624 - val_loss: 0.4408 - val_accuracy: 0.8913\n",
      "Epoch 38/50\n",
      "1500/1500 [==============================] - 2s 1ms/step - loss: 0.1014 - accuracy: 0.9629 - val_loss: 0.4469 - val_accuracy: 0.8906\n",
      "Epoch 39/50\n",
      "1500/1500 [==============================] - 2s 1ms/step - loss: 0.1005 - accuracy: 0.9620 - val_loss: 0.4424 - val_accuracy: 0.8887\n",
      "Epoch 40/50\n",
      "1500/1500 [==============================] - 2s 1ms/step - loss: 0.0953 - accuracy: 0.9640 - val_loss: 0.4436 - val_accuracy: 0.8881\n",
      "Epoch 41/50\n",
      "1500/1500 [==============================] - 2s 1ms/step - loss: 0.0944 - accuracy: 0.9648 - val_loss: 0.4627 - val_accuracy: 0.8882\n",
      "Epoch 42/50\n",
      "1500/1500 [==============================] - 2s 1ms/step - loss: 0.0904 - accuracy: 0.9664 - val_loss: 0.4465 - val_accuracy: 0.8925\n",
      "Epoch 43/50\n",
      "1500/1500 [==============================] - 2s 1ms/step - loss: 0.0897 - accuracy: 0.9670 - val_loss: 0.4773 - val_accuracy: 0.8916\n",
      "Epoch 44/50\n",
      "1500/1500 [==============================] - 2s 1ms/step - loss: 0.0852 - accuracy: 0.9682 - val_loss: 0.4633 - val_accuracy: 0.8915\n",
      "Epoch 45/50\n",
      "1500/1500 [==============================] - 2s 1ms/step - loss: 0.0870 - accuracy: 0.9673 - val_loss: 0.4781 - val_accuracy: 0.8908\n",
      "Epoch 46/50\n",
      "1500/1500 [==============================] - 2s 1ms/step - loss: 0.0856 - accuracy: 0.9674 - val_loss: 0.5009 - val_accuracy: 0.8872\n",
      "Epoch 47/50\n",
      "1500/1500 [==============================] - 2s 1ms/step - loss: 0.0789 - accuracy: 0.9707 - val_loss: 0.5001 - val_accuracy: 0.8892\n",
      "Epoch 48/50\n",
      "1500/1500 [==============================] - 2s 1ms/step - loss: 0.0798 - accuracy: 0.9697 - val_loss: 0.4866 - val_accuracy: 0.8913\n",
      "Epoch 49/50\n",
      "1500/1500 [==============================] - 2s 1ms/step - loss: 0.0786 - accuracy: 0.9710 - val_loss: 0.5120 - val_accuracy: 0.8869\n",
      "Epoch 50/50\n",
      "1500/1500 [==============================] - 2s 1ms/step - loss: 0.0785 - accuracy: 0.9694 - val_loss: 0.5149 - val_accuracy: 0.8908\n",
      "Best epoch: 19\n"
     ]
    }
   ],
   "source": [
    "# Build the model with the optimal hyperparamers and train it on the data for 50 epochs\n",
    "model=tuner.hypermodel.build(best_hps)\n",
    "history=model.fit(img_train, label_train, epochs=50, validation_split=0.2)\n",
    "\n",
    "val_acc_per_epoch = history.history['val_accuracy']\n",
    "best_epoch = val_acc_per_epoch.index(max(val_acc_per_epoch)) +1\n",
    "print('Best epoch: %d' % (best_epoch,))"
   ]
  },
  {
   "cell_type": "code",
   "execution_count": 74,
   "id": "approved-racing",
   "metadata": {},
   "outputs": [
    {
     "data": {
      "text/plain": [
       "<Figure size 432x288 with 0 Axes>"
      ]
     },
     "metadata": {},
     "output_type": "display_data"
    }
   ],
   "source": [
    "## to plot error/accuracy side by side\n",
    "fig = plt.figure()\n",
    "fig.patch.set_facecolor('white')\n",
    "\n",
    "def plot_2(history=history_vgg,\n",
    "          ylim_low=0.4, ylim_high=1.0, \n",
    "          label_list=[]    ,       \n",
    "          leg_loc='lower left'):\n",
    "    fig = plt.figure(figsize=(15,5))\n",
    "\n",
    "    plt.subplot(1,2,1)\n",
    "    plt.plot(history.history['accuracy'], label=label_list[0], c='green', ls='-')\n",
    "    plt.plot(history.history['val_accuracy'],label=label_list[1], c='green',ls='--')\n",
    "\n",
    "    plt.ylabel('accuracy')\n",
    "    plt.xlabel('Epoch')\n",
    "    plt.grid(True)\n",
    "    plt.legend(loc=leg_loc)\n",
    "\n",
    "    plt.subplot(1,2,2)\n",
    "    plt.plot(history.history['loss'], label=label_list[0], c='red', ls='-')\n",
    "    plt.plot(history.history['val_loss'],label=label_list[1],  c='red',ls='--')\n",
    "\n",
    "    plt.xlabel('Epoch')\n",
    "    plt.ylabel('loss')\n",
    "    plt.grid(True)\n",
    "    plt.legend(loc=leg_loc)\n",
    "    plt.ylim(ylim_low,ylim_high)"
   ]
  },
  {
   "cell_type": "code",
   "execution_count": 75,
   "id": "international-prairie",
   "metadata": {},
   "outputs": [
    {
     "data": {
      "image/png": "[encoded data removed]",
      "text/plain": [
       "<Figure size 1080x360 with 2 Axes>"
      ]
     },
     "metadata": {
      "needs_background": "light"
     },
     "output_type": "display_data"
    }
   ],
   "source": [
    "plot_2(history=history, label_list=['train_acc', 'validation_acc'], ylim_low=0, leg_loc='upper left')"
   ]
  },
  {
   "cell_type": "code",
   "execution_count": 76,
   "id": "african-omega",
   "metadata": {
    "scrolled": true
   },
   "outputs": [
    {
     "name": "stdout",
     "output_type": "stream",
     "text": [
      "Epoch 1/19\n",
      "1500/1500 [==============================] - 2s 1ms/step - loss: 0.6421 - accuracy: 0.7773 - val_loss: 0.4118 - val_accuracy: 0.8525\n",
      "Epoch 2/19\n",
      "1500/1500 [==============================] - 2s 1ms/step - loss: 0.3909 - accuracy: 0.8588 - val_loss: 0.3797 - val_accuracy: 0.8636\n",
      "Epoch 3/19\n",
      "1500/1500 [==============================] - 2s 1ms/step - loss: 0.3370 - accuracy: 0.8777 - val_loss: 0.3385 - val_accuracy: 0.8767\n",
      "Epoch 4/19\n",
      "1500/1500 [==============================] - 2s 1ms/step - loss: 0.3085 - accuracy: 0.8854 - val_loss: 0.3364 - val_accuracy: 0.8744\n",
      "Epoch 5/19\n",
      "1500/1500 [==============================] - 2s 1ms/step - loss: 0.2850 - accuracy: 0.8941 - val_loss: 0.3338 - val_accuracy: 0.8802\n",
      "Epoch 6/19\n",
      "1500/1500 [==============================] - 2s 1ms/step - loss: 0.2674 - accuracy: 0.9012 - val_loss: 0.3252 - val_accuracy: 0.8852\n",
      "Epoch 7/19\n",
      "1500/1500 [==============================] - 2s 1ms/step - loss: 0.2669 - accuracy: 0.8991 - val_loss: 0.3434 - val_accuracy: 0.8727\n",
      "Epoch 8/19\n",
      "1500/1500 [==============================] - 2s 1ms/step - loss: 0.2450 - accuracy: 0.9089 - val_loss: 0.3156 - val_accuracy: 0.8870\n",
      "Epoch 9/19\n",
      "1500/1500 [==============================] - 2s 1ms/step - loss: 0.2367 - accuracy: 0.9115 - val_loss: 0.3121 - val_accuracy: 0.8898\n",
      "Epoch 10/19\n",
      "1500/1500 [==============================] - 2s 1ms/step - loss: 0.2249 - accuracy: 0.9179 - val_loss: 0.3089 - val_accuracy: 0.8898\n",
      "Epoch 11/19\n",
      "1500/1500 [==============================] - 2s 1ms/step - loss: 0.2156 - accuracy: 0.9193 - val_loss: 0.3385 - val_accuracy: 0.8832\n",
      "Epoch 12/19\n",
      "1500/1500 [==============================] - 2s 1ms/step - loss: 0.2064 - accuracy: 0.9226 - val_loss: 0.3456 - val_accuracy: 0.8844\n",
      "Epoch 13/19\n",
      "1500/1500 [==============================] - 3s 2ms/step - loss: 0.2010 - accuracy: 0.9244 - val_loss: 0.3202 - val_accuracy: 0.8913\n",
      "Epoch 14/19\n",
      "1500/1500 [==============================] - 2s 2ms/step - loss: 0.1964 - accuracy: 0.9246 - val_loss: 0.3267 - val_accuracy: 0.8913\n",
      "Epoch 15/19\n",
      "1500/1500 [==============================] - 2s 2ms/step - loss: 0.1883 - accuracy: 0.9291 - val_loss: 0.3185 - val_accuracy: 0.8935\n",
      "Epoch 16/19\n",
      "1500/1500 [==============================] - 2s 1ms/step - loss: 0.1831 - accuracy: 0.9323 - val_loss: 0.3333 - val_accuracy: 0.8882\n",
      "Epoch 17/19\n",
      "1500/1500 [==============================] - 2s 1ms/step - loss: 0.1740 - accuracy: 0.9338 - val_loss: 0.3236 - val_accuracy: 0.8934\n",
      "Epoch 18/19\n",
      "1500/1500 [==============================] - 2s 1ms/step - loss: 0.1689 - accuracy: 0.9356 - val_loss: 0.3507 - val_accuracy: 0.8898\n",
      "Epoch 19/19\n",
      "1500/1500 [==============================] - 2s 1ms/step - loss: 0.1660 - accuracy: 0.9350 - val_loss: 0.3620 - val_accuracy: 0.8776\n"
     ]
    },
    {
     "data": {
      "text/plain": [
       "<tensorflow.python.keras.callbacks.History at 0x7f6ba1a43520>"
      ]
     },
     "execution_count": 76,
     "metadata": {},
     "output_type": "execute_result"
    }
   ],
   "source": [
    "## Reinstiate the hypermodel and train it with optimal nunber of epoches\n",
    "\n",
    "hypermodel = tuner.hypermodel.build(best_hps)\n",
    "hypermodel.fit(img_train, label_train, epochs=best_epoch, validation_split=0.2)"
   ]
  },
  {
   "cell_type": "markdown",
   "id": "instructional-tutorial",
   "metadata": {},
   "source": [
    "## Step 5. Evaluate on test data"
   ]
  },
  {
   "cell_type": "code",
   "execution_count": 65,
   "id": "occupational-surfing",
   "metadata": {},
   "outputs": [
    {
     "name": "stdout",
     "output_type": "stream",
     "text": [
      "313/313 [==============================] - 1s 2ms/step - loss: 0.3791 - accuracy: 0.8840\n",
      "[test loss, test accuracy]: [0.3790961802005768, 0.8840000033378601]\n"
     ]
    }
   ],
   "source": [
    "## Evaluate the hyoermodel on the test data\n",
    "eval_result =hypermodel.evaluate(img_test, label_test)\n",
    "print(\"[test loss, test accuracy]:\", eval_result)"
   ]
  },
  {
   "cell_type": "markdown",
   "id": "regulated-blade",
   "metadata": {},
   "source": [
    "## Step 6. Lets change the Model Infrastructure to VGG "
   ]
  },
  {
   "cell_type": "code",
   "execution_count": 23,
   "id": "distant-boston",
   "metadata": {},
   "outputs": [
    {
     "data": {
      "text/plain": [
       "(60000, 28, 28)"
      ]
     },
     "execution_count": 23,
     "metadata": {},
     "output_type": "execute_result"
    }
   ],
   "source": [
    "img_train.shape"
   ]
  },
  {
   "cell_type": "code",
   "execution_count": 85,
   "id": "liquid-suite",
   "metadata": {},
   "outputs": [
    {
     "data": {
      "text/plain": [
       "(60000, 28, 28, 1)"
      ]
     },
     "execution_count": 85,
     "metadata": {},
     "output_type": "execute_result"
    }
   ],
   "source": [
    "img_train = img_train.reshape(list(img_train.shape) + [1])\n",
    "img_test = img_test.reshape(list(img_test.shape) + [1])\n",
    "\n",
    "img_train.shape"
   ]
  },
  {
   "cell_type": "code",
   "execution_count": 35,
   "id": "impressed-party",
   "metadata": {},
   "outputs": [],
   "source": [
    "# Normalize pixel values to be between 0 and 1\n",
    "from tensorflow.keras.utils import to_categorical\n",
    "import numpy as np\n",
    "label_train = to_categorical(label_train, len(np.unique(label_train)))\n",
    "label_test = to_categorical(label_test, len(np.unique(label_test)))"
   ]
  },
  {
   "cell_type": "code",
   "execution_count": 30,
   "id": "mexican-consciousness",
   "metadata": {},
   "outputs": [],
   "source": [
    "def model_builder_vgg(hp):\n",
    "    model= keras.Sequential()\n",
    "    model.add(keras.layers.Conv2D(32, (3,3), activation='relu', padding='same',input_shape=(28,28,1)))\n",
    "    model.add(keras.layers.Conv2D(32, (3,3), activation='relu', padding='same'))\n",
    "    model.add(keras.layers.MaxPooling2D(2, 2))\n",
    "        \n",
    "    # The second convolution\n",
    "    model.add(keras.layers.Conv2D(64, (3,3), activation='relu', padding='same'))\n",
    "    model.add(keras.layers.Conv2D(64, (3,3), activation='relu', padding='same'))\n",
    "    model.add(keras.layers.MaxPooling2D(2,2))\n",
    "        \n",
    "    # The third convolution\n",
    "    model.add(keras.layers.Conv2D(128, (3,3), activation='relu', padding='same'))\n",
    "    model.add(keras.layers.Conv2D(128, (3,3), activation='relu', padding='same'))\n",
    "    model.add(keras.layers.MaxPooling2D(2,2))\n",
    "   \n",
    "    model.add(keras.layers.Flatten())\n",
    "    \n",
    "    hp_units = hp.Int('units', min_value=32, max_value=512, step=32)\n",
    "    model.add(keras.layers.Dense(units=hp_units, activation='relu'))\n",
    "    model.add(keras.layers.Dense(10, activation='softmax'))\n",
    "    \n",
    "    hp_learning_rate = hp.Choice('learning_rate', values=[1e-2, 1e-3, 1e-4])\n",
    "    model.compile(optimizer=keras.optimizers.Adam(learning_rate=hp_learning_rate), \n",
    "                  loss='categorical_crossentropy', \n",
    "                  metrics=['accuracy'])\n",
    "    model.summary()\n",
    "    return model"
   ]
  },
  {
   "cell_type": "code",
   "execution_count": 31,
   "id": "imposed-underground",
   "metadata": {},
   "outputs": [
    {
     "name": "stdout",
     "output_type": "stream",
     "text": [
      "INFO:tensorflow:Reloading Oracle from existing project ./untitled_project/oracle.json\n",
      "Model: \"sequential\"\n",
      "_________________________________________________________________\n",
      "Layer (type)                 Output Shape              Param #   \n",
      "=================================================================\n",
      "conv2d (Conv2D)              (None, 28, 28, 32)        320       \n",
      "_________________________________________________________________\n",
      "conv2d_1 (Conv2D)            (None, 28, 28, 32)        9248      \n",
      "_________________________________________________________________\n",
      "max_pooling2d (MaxPooling2D) (None, 14, 14, 32)        0         \n",
      "_________________________________________________________________\n",
      "conv2d_2 (Conv2D)            (None, 14, 14, 64)        18496     \n",
      "_________________________________________________________________\n",
      "conv2d_3 (Conv2D)            (None, 14, 14, 64)        36928     \n",
      "_________________________________________________________________\n",
      "max_pooling2d_1 (MaxPooling2 (None, 7, 7, 64)          0         \n",
      "_________________________________________________________________\n",
      "conv2d_4 (Conv2D)            (None, 7, 7, 128)         73856     \n",
      "_________________________________________________________________\n",
      "conv2d_5 (Conv2D)            (None, 7, 7, 128)         147584    \n",
      "_________________________________________________________________\n",
      "max_pooling2d_2 (MaxPooling2 (None, 3, 3, 128)         0         \n",
      "_________________________________________________________________\n",
      "flatten (Flatten)            (None, 1152)              0         \n",
      "_________________________________________________________________\n",
      "dense (Dense)                (None, 32)                36896     \n",
      "_________________________________________________________________\n",
      "dense_1 (Dense)              (None, 10)                330       \n",
      "=================================================================\n",
      "Total params: 323,658\n",
      "Trainable params: 323,658\n",
      "Non-trainable params: 0\n",
      "_________________________________________________________________\n"
     ]
    }
   ],
   "source": [
    "tuner_vgg = kt.Hyperband(model_builder_vgg, \n",
    "                    objective='val_accuracy',\n",
    "                    max_epochs=10,\n",
    "                    factor=3, # Int. Reduction factor for the number of epochs/number of models for each bracket.\n",
    "                        )"
   ]
  },
  {
   "cell_type": "code",
   "execution_count": 32,
   "id": "enhanced-guatemala",
   "metadata": {},
   "outputs": [],
   "source": [
    "stop_early = tf.keras.callbacks.EarlyStopping(monitor='val_loss', patience=5)"
   ]
  },
  {
   "cell_type": "code",
   "execution_count": 36,
   "id": "hidden-location",
   "metadata": {},
   "outputs": [
    {
     "name": "stdout",
     "output_type": "stream",
     "text": [
      "Trial 31 Complete [00h 18m 20s]\n",
      "val_accuracy: 0.9154999852180481\n",
      "\n",
      "Best val_accuracy So Far: 0.9243333339691162\n",
      "Total elapsed time: 03h 51m 22s\n",
      "INFO:tensorflow:Oracle triggered exit\n",
      "\n",
      "The Optimal number of units in the first dense layeer is 480 and \n",
      "the optimal learning rate for the optimal learning_rate is 0.001\n"
     ]
    }
   ],
   "source": [
    "tuner_vgg.search(img_train, label_train, epochs=50, validation_split=0.2, callbacks=[stop_early])\n",
    "\n",
    "## get the optimal hyperparameters\n",
    "best_hp_vgg=tuner_vgg.get_best_hyperparameters(num_trials=1)[0]\n",
    "\n",
    "print(f\"\"\"\n",
    "The Optimal number of units in the first dense layeer is {best_hp_vgg.get('units')} and \n",
    "the optimal learning rate for the optimal learning_rate is {best_hp_vgg.get('learning_rate')}\"\"\")"
   ]
  },
  {
   "cell_type": "code",
   "execution_count": 39,
   "id": "sonic-format",
   "metadata": {},
   "outputs": [
    {
     "name": "stdout",
     "output_type": "stream",
     "text": [
      "Model: \"sequential\"\n",
      "_________________________________________________________________\n",
      "Layer (type)                 Output Shape              Param #   \n",
      "=================================================================\n",
      "conv2d (Conv2D)              (None, 28, 28, 32)        320       \n",
      "_________________________________________________________________\n",
      "conv2d_1 (Conv2D)            (None, 28, 28, 32)        9248      \n",
      "_________________________________________________________________\n",
      "max_pooling2d (MaxPooling2D) (None, 14, 14, 32)        0         \n",
      "_________________________________________________________________\n",
      "conv2d_2 (Conv2D)            (None, 14, 14, 64)        18496     \n",
      "_________________________________________________________________\n",
      "conv2d_3 (Conv2D)            (None, 14, 14, 64)        36928     \n",
      "_________________________________________________________________\n",
      "max_pooling2d_1 (MaxPooling2 (None, 7, 7, 64)          0         \n",
      "_________________________________________________________________\n",
      "conv2d_4 (Conv2D)            (None, 7, 7, 128)         73856     \n",
      "_________________________________________________________________\n",
      "conv2d_5 (Conv2D)            (None, 7, 7, 128)         147584    \n",
      "_________________________________________________________________\n",
      "max_pooling2d_2 (MaxPooling2 (None, 3, 3, 128)         0         \n",
      "_________________________________________________________________\n",
      "flatten (Flatten)            (None, 1152)              0         \n",
      "_________________________________________________________________\n",
      "dense (Dense)                (None, 480)               553440    \n",
      "_________________________________________________________________\n",
      "dense_1 (Dense)              (None, 10)                4810      \n",
      "=================================================================\n",
      "Total params: 844,682\n",
      "Trainable params: 844,682\n",
      "Non-trainable params: 0\n",
      "_________________________________________________________________\n",
      "Epoch 1/50\n",
      "1500/1500 [==============================] - 92s 61ms/step - loss: 0.6449 - accuracy: 0.7634 - val_loss: 0.3066 - val_accuracy: 0.8856\n",
      "Epoch 2/50\n",
      "1500/1500 [==============================] - 99s 66ms/step - loss: 0.2760 - accuracy: 0.8992 - val_loss: 0.2675 - val_accuracy: 0.8996\n",
      "Epoch 3/50\n",
      "1500/1500 [==============================] - 92s 61ms/step - loss: 0.2335 - accuracy: 0.9117 - val_loss: 0.2455 - val_accuracy: 0.9129\n",
      "Epoch 4/50\n",
      "1500/1500 [==============================] - 91s 61ms/step - loss: 0.1962 - accuracy: 0.9271 - val_loss: 0.2410 - val_accuracy: 0.9107\n",
      "Epoch 5/50\n",
      "1500/1500 [==============================] - 92s 61ms/step - loss: 0.1725 - accuracy: 0.9359 - val_loss: 0.2135 - val_accuracy: 0.9214\n",
      "Epoch 6/50\n",
      "1500/1500 [==============================] - 93s 62ms/step - loss: 0.1426 - accuracy: 0.9474 - val_loss: 0.2332 - val_accuracy: 0.9187\n",
      "Epoch 7/50\n",
      "1500/1500 [==============================] - 95s 63ms/step - loss: 0.1226 - accuracy: 0.9557 - val_loss: 0.2553 - val_accuracy: 0.9171\n",
      "Epoch 8/50\n",
      "1500/1500 [==============================] - 95s 63ms/step - loss: 0.1077 - accuracy: 0.9588 - val_loss: 0.2727 - val_accuracy: 0.9164\n",
      "Epoch 9/50\n",
      "1500/1500 [==============================] - 95s 64ms/step - loss: 0.0940 - accuracy: 0.9641 - val_loss: 0.2864 - val_accuracy: 0.9158\n",
      "Epoch 10/50\n",
      "1500/1500 [==============================] - 96s 64ms/step - loss: 0.0821 - accuracy: 0.9690 - val_loss: 0.2800 - val_accuracy: 0.9148\n",
      "Epoch 11/50\n",
      "1500/1500 [==============================] - 97s 64ms/step - loss: 0.0734 - accuracy: 0.9735 - val_loss: 0.3014 - val_accuracy: 0.9235\n",
      "Epoch 12/50\n",
      "1500/1500 [==============================] - 97s 65ms/step - loss: 0.0693 - accuracy: 0.9739 - val_loss: 0.2848 - val_accuracy: 0.9231\n",
      "Epoch 13/50\n",
      "1500/1500 [==============================] - 96s 64ms/step - loss: 0.0594 - accuracy: 0.9783 - val_loss: 0.3419 - val_accuracy: 0.9193\n",
      "Epoch 14/50\n",
      "1500/1500 [==============================] - 98s 65ms/step - loss: 0.0582 - accuracy: 0.9796 - val_loss: 0.3768 - val_accuracy: 0.9185\n",
      "Epoch 15/50\n",
      "1500/1500 [==============================] - 97s 65ms/step - loss: 0.0524 - accuracy: 0.9809 - val_loss: 0.4077 - val_accuracy: 0.9176\n",
      "Epoch 16/50\n",
      "1500/1500 [==============================] - 98s 65ms/step - loss: 0.0496 - accuracy: 0.9823 - val_loss: 0.4034 - val_accuracy: 0.9182\n",
      "Epoch 17/50\n",
      "1500/1500 [==============================] - 97s 65ms/step - loss: 0.0499 - accuracy: 0.9830 - val_loss: 0.3665 - val_accuracy: 0.9172\n",
      "Epoch 18/50\n",
      "1500/1500 [==============================] - 98s 65ms/step - loss: 0.0496 - accuracy: 0.9825 - val_loss: 0.4427 - val_accuracy: 0.9170\n",
      "Epoch 19/50\n",
      "1500/1500 [==============================] - 97s 65ms/step - loss: 0.0441 - accuracy: 0.9851 - val_loss: 0.4188 - val_accuracy: 0.9207\n",
      "Epoch 20/50\n",
      "1500/1500 [==============================] - 98s 65ms/step - loss: 0.0504 - accuracy: 0.9833 - val_loss: 0.4943 - val_accuracy: 0.9187\n",
      "Epoch 21/50\n",
      "1500/1500 [==============================] - 97s 65ms/step - loss: 0.0410 - accuracy: 0.9852 - val_loss: 0.5037 - val_accuracy: 0.9184\n",
      "Epoch 22/50\n",
      "1500/1500 [==============================] - 99s 66ms/step - loss: 0.0413 - accuracy: 0.9859 - val_loss: 0.4793 - val_accuracy: 0.9115\n",
      "Epoch 23/50\n",
      "1500/1500 [==============================] - 98s 66ms/step - loss: 0.0477 - accuracy: 0.9843 - val_loss: 0.4928 - val_accuracy: 0.9202\n",
      "Epoch 24/50\n",
      "1500/1500 [==============================] - 97s 65ms/step - loss: 0.0469 - accuracy: 0.9856 - val_loss: 0.4408 - val_accuracy: 0.9227\n",
      "Epoch 25/50\n",
      "1500/1500 [==============================] - 105s 70ms/step - loss: 0.0342 - accuracy: 0.9882 - val_loss: 0.5106 - val_accuracy: 0.9187\n",
      "Epoch 26/50\n",
      "1500/1500 [==============================] - 92s 61ms/step - loss: 0.0436 - accuracy: 0.9854 - val_loss: 0.4819 - val_accuracy: 0.9183\n",
      "Epoch 27/50\n",
      "1500/1500 [==============================] - 90s 60ms/step - loss: 0.0417 - accuracy: 0.9872 - val_loss: 0.6055 - val_accuracy: 0.9179\n",
      "Epoch 28/50\n",
      "1500/1500 [==============================] - 98s 65ms/step - loss: 0.0407 - accuracy: 0.9878 - val_loss: 0.5292 - val_accuracy: 0.9211\n",
      "Epoch 29/50\n",
      "1500/1500 [==============================] - 97s 65ms/step - loss: 0.0356 - accuracy: 0.9881 - val_loss: 0.5419 - val_accuracy: 0.9153\n",
      "Epoch 30/50\n",
      "1500/1500 [==============================] - 97s 65ms/step - loss: 0.0423 - accuracy: 0.9868 - val_loss: 0.5950 - val_accuracy: 0.9172\n",
      "Epoch 31/50\n",
      "1500/1500 [==============================] - 96s 64ms/step - loss: 0.0420 - accuracy: 0.9870 - val_loss: 0.5299 - val_accuracy: 0.9168\n",
      "Epoch 32/50\n",
      "1500/1500 [==============================] - 99s 66ms/step - loss: 0.0345 - accuracy: 0.9892 - val_loss: 0.5084 - val_accuracy: 0.9214\n",
      "Epoch 33/50\n",
      "1500/1500 [==============================] - 103s 68ms/step - loss: 0.0451 - accuracy: 0.9859 - val_loss: 0.5351 - val_accuracy: 0.9175\n",
      "Epoch 34/50\n",
      "1500/1500 [==============================] - 100s 67ms/step - loss: 0.0383 - accuracy: 0.9876 - val_loss: 0.5507 - val_accuracy: 0.9187\n",
      "Epoch 35/50\n",
      "1500/1500 [==============================] - 101s 67ms/step - loss: 0.0459 - accuracy: 0.9861 - val_loss: 0.6436 - val_accuracy: 0.9155\n",
      "Epoch 36/50\n",
      "1500/1500 [==============================] - 100s 67ms/step - loss: 0.0389 - accuracy: 0.9884 - val_loss: 0.6463 - val_accuracy: 0.9223\n",
      "Epoch 37/50\n",
      "1500/1500 [==============================] - 100s 67ms/step - loss: 0.0340 - accuracy: 0.9886 - val_loss: 0.6006 - val_accuracy: 0.9160\n",
      "Epoch 38/50\n",
      "1500/1500 [==============================] - 102s 68ms/step - loss: 0.0432 - accuracy: 0.9874 - val_loss: 0.6662 - val_accuracy: 0.9127\n",
      "Epoch 39/50\n",
      "1500/1500 [==============================] - 104s 69ms/step - loss: 0.0555 - accuracy: 0.9859 - val_loss: 0.6449 - val_accuracy: 0.9188\n",
      "Epoch 40/50\n",
      "1500/1500 [==============================] - 106s 71ms/step - loss: 0.0410 - accuracy: 0.9882 - val_loss: 0.7430 - val_accuracy: 0.9186\n",
      "Epoch 41/50\n",
      "1500/1500 [==============================] - 107s 71ms/step - loss: 0.0480 - accuracy: 0.9870 - val_loss: 0.6562 - val_accuracy: 0.9180\n",
      "Epoch 42/50\n",
      "1500/1500 [==============================] - 107s 71ms/step - loss: 0.0370 - accuracy: 0.9891 - val_loss: 0.6915 - val_accuracy: 0.9173\n",
      "Epoch 43/50\n"
     ]
    },
    {
     "name": "stdout",
     "output_type": "stream",
     "text": [
      "1500/1500 [==============================] - 99s 66ms/step - loss: 0.0421 - accuracy: 0.9886 - val_loss: 0.6821 - val_accuracy: 0.9178\n",
      "Epoch 44/50\n",
      "1500/1500 [==============================] - 99s 66ms/step - loss: 0.0405 - accuracy: 0.9884 - val_loss: 0.5990 - val_accuracy: 0.9197\n",
      "Epoch 45/50\n",
      "1500/1500 [==============================] - 100s 66ms/step - loss: 0.0265 - accuracy: 0.9918 - val_loss: 0.7187 - val_accuracy: 0.9196\n",
      "Epoch 46/50\n",
      "1500/1500 [==============================] - 100s 67ms/step - loss: 0.0435 - accuracy: 0.9879 - val_loss: 0.6818 - val_accuracy: 0.9189\n",
      "Epoch 47/50\n",
      "1500/1500 [==============================] - 100s 67ms/step - loss: 0.0487 - accuracy: 0.9870 - val_loss: 0.7068 - val_accuracy: 0.9195\n",
      "Epoch 48/50\n",
      "1500/1500 [==============================] - 101s 67ms/step - loss: 0.0279 - accuracy: 0.9919 - val_loss: 0.7273 - val_accuracy: 0.9158\n",
      "Epoch 49/50\n",
      "1500/1500 [==============================] - 101s 67ms/step - loss: 0.0462 - accuracy: 0.9871 - val_loss: 0.6173 - val_accuracy: 0.9212\n",
      "Epoch 50/50\n",
      "1500/1500 [==============================] - 101s 68ms/step - loss: 0.0333 - accuracy: 0.9906 - val_loss: 0.7428 - val_accuracy: 0.9146\n"
     ]
    },
    {
     "ename": "NameError",
     "evalue": "name 'val_acc_per_epoch' is not defined",
     "output_type": "error",
     "traceback": [
      "\u001b[0;31m---------------------------------------------------------------------------\u001b[0m",
      "\u001b[0;31mNameError\u001b[0m                                 Traceback (most recent call last)",
      "\u001b[0;32m<ipython-input-39-ff9d710d7200>\u001b[0m in \u001b[0;36m<module>\u001b[0;34m\u001b[0m\n\u001b[1;32m      4\u001b[0m \u001b[0;34m\u001b[0m\u001b[0m\n\u001b[1;32m      5\u001b[0m \u001b[0mval_acc_per_epoch_vgg\u001b[0m \u001b[0;34m=\u001b[0m \u001b[0mhistory_vgg\u001b[0m\u001b[0;34m.\u001b[0m\u001b[0mhistory\u001b[0m\u001b[0;34m[\u001b[0m\u001b[0;34m'val_accuracy'\u001b[0m\u001b[0;34m]\u001b[0m\u001b[0;34m\u001b[0m\u001b[0;34m\u001b[0m\u001b[0m\n\u001b[0;32m----> 6\u001b[0;31m \u001b[0mbest_epoch_vgg\u001b[0m \u001b[0;34m=\u001b[0m \u001b[0mval_acc_per_epoch_vgg\u001b[0m\u001b[0;34m.\u001b[0m\u001b[0mindex\u001b[0m\u001b[0;34m(\u001b[0m\u001b[0mmax\u001b[0m\u001b[0;34m(\u001b[0m\u001b[0mval_acc_per_epoch\u001b[0m\u001b[0;34m)\u001b[0m\u001b[0;34m)\u001b[0m \u001b[0;34m+\u001b[0m\u001b[0;36m1\u001b[0m\u001b[0;34m\u001b[0m\u001b[0;34m\u001b[0m\u001b[0m\n\u001b[0m\u001b[1;32m      7\u001b[0m \u001b[0mprint\u001b[0m\u001b[0;34m(\u001b[0m\u001b[0;34m'Best epoch: %d'\u001b[0m \u001b[0;34m%\u001b[0m \u001b[0;34m(\u001b[0m\u001b[0mbest_epoch\u001b[0m\u001b[0;34m,\u001b[0m\u001b[0;34m)\u001b[0m\u001b[0;34m)\u001b[0m\u001b[0;34m\u001b[0m\u001b[0;34m\u001b[0m\u001b[0m\n",
      "\u001b[0;31mNameError\u001b[0m: name 'val_acc_per_epoch' is not defined"
     ]
    }
   ],
   "source": [
    "# Build the model with the optimal hyperparamers and train it on the data for 50 epochs\n",
    "model_vgg=tuner_vgg.hypermodel.build(best_hp_vgg)\n",
    "history_vgg=model_vgg.fit(img_train, label_train, epochs=50, validation_split=0.2)"
   ]
  },
  {
   "cell_type": "code",
   "execution_count": 43,
   "id": "elementary-festival",
   "metadata": {},
   "outputs": [
    {
     "name": "stdout",
     "output_type": "stream",
     "text": [
      "Best epoch: 11\n"
     ]
    }
   ],
   "source": [
    "val_acc_per_epoch_vgg = history_vgg.history['val_accuracy']\n",
    "best_epoch_vgg = val_acc_per_epoch_vgg.index(max(val_acc_per_epoch_vgg)) +1\n",
    "print('Best epoch: %d' % (best_epoch_vgg,))"
   ]
  },
  {
   "cell_type": "code",
   "execution_count": 45,
   "id": "adequate-hands",
   "metadata": {},
   "outputs": [
    {
     "name": "stdout",
     "output_type": "stream",
     "text": [
      "Model: \"sequential\"\n",
      "_________________________________________________________________\n",
      "Layer (type)                 Output Shape              Param #   \n",
      "=================================================================\n",
      "conv2d (Conv2D)              (None, 28, 28, 32)        320       \n",
      "_________________________________________________________________\n",
      "conv2d_1 (Conv2D)            (None, 28, 28, 32)        9248      \n",
      "_________________________________________________________________\n",
      "max_pooling2d (MaxPooling2D) (None, 14, 14, 32)        0         \n",
      "_________________________________________________________________\n",
      "conv2d_2 (Conv2D)            (None, 14, 14, 64)        18496     \n",
      "_________________________________________________________________\n",
      "conv2d_3 (Conv2D)            (None, 14, 14, 64)        36928     \n",
      "_________________________________________________________________\n",
      "max_pooling2d_1 (MaxPooling2 (None, 7, 7, 64)          0         \n",
      "_________________________________________________________________\n",
      "conv2d_4 (Conv2D)            (None, 7, 7, 128)         73856     \n",
      "_________________________________________________________________\n",
      "conv2d_5 (Conv2D)            (None, 7, 7, 128)         147584    \n",
      "_________________________________________________________________\n",
      "max_pooling2d_2 (MaxPooling2 (None, 3, 3, 128)         0         \n",
      "_________________________________________________________________\n",
      "flatten (Flatten)            (None, 1152)              0         \n",
      "_________________________________________________________________\n",
      "dense (Dense)                (None, 480)               553440    \n",
      "_________________________________________________________________\n",
      "dense_1 (Dense)              (None, 10)                4810      \n",
      "=================================================================\n",
      "Total params: 844,682\n",
      "Trainable params: 844,682\n",
      "Non-trainable params: 0\n",
      "_________________________________________________________________\n",
      "Epoch 1/11\n",
      "1500/1500 [==============================] - 94s 62ms/step - loss: 0.6259 - accuracy: 0.7680 - val_loss: 0.4086 - val_accuracy: 0.8409\n",
      "Epoch 2/11\n",
      "1500/1500 [==============================] - 95s 63ms/step - loss: 0.2755 - accuracy: 0.8990 - val_loss: 0.2787 - val_accuracy: 0.8977\n",
      "Epoch 3/11\n",
      "1500/1500 [==============================] - 89s 59ms/step - loss: 0.2262 - accuracy: 0.9164 - val_loss: 0.2424 - val_accuracy: 0.9136\n",
      "Epoch 4/11\n",
      "1500/1500 [==============================] - 94s 63ms/step - loss: 0.1926 - accuracy: 0.9273 - val_loss: 0.2371 - val_accuracy: 0.9159\n",
      "Epoch 5/11\n",
      "1500/1500 [==============================] - 91s 61ms/step - loss: 0.1640 - accuracy: 0.9387 - val_loss: 0.2222 - val_accuracy: 0.9230\n",
      "Epoch 6/11\n",
      "1500/1500 [==============================] - 94s 62ms/step - loss: 0.1454 - accuracy: 0.9456 - val_loss: 0.2198 - val_accuracy: 0.9216\n",
      "Epoch 7/11\n",
      "1500/1500 [==============================] - 96s 64ms/step - loss: 0.1189 - accuracy: 0.9563 - val_loss: 0.2396 - val_accuracy: 0.9221\n",
      "Epoch 8/11\n",
      "1500/1500 [==============================] - 91s 61ms/step - loss: 0.1051 - accuracy: 0.9601 - val_loss: 0.2606 - val_accuracy: 0.9179\n",
      "Epoch 9/11\n",
      "1500/1500 [==============================] - 94s 63ms/step - loss: 0.0889 - accuracy: 0.9660 - val_loss: 0.2568 - val_accuracy: 0.9193\n",
      "Epoch 10/11\n",
      "1500/1500 [==============================] - 93s 62ms/step - loss: 0.0801 - accuracy: 0.9700 - val_loss: 0.2842 - val_accuracy: 0.9222\n",
      "Epoch 11/11\n",
      "1500/1500 [==============================] - 88s 58ms/step - loss: 0.0682 - accuracy: 0.9741 - val_loss: 0.2920 - val_accuracy: 0.9224\n"
     ]
    },
    {
     "data": {
      "text/plain": [
       "<tensorflow.python.keras.callbacks.History at 0x7f6ba1a3f9a0>"
      ]
     },
     "execution_count": 45,
     "metadata": {},
     "output_type": "execute_result"
    }
   ],
   "source": [
    "## Reinstiate the hypermodel and train it with optimal number of epoches\n",
    "hypermodel_vgg = tuner_vgg.hypermodel.build(best_hp_vgg)\n",
    "hypermodel_vgg.fit(img_train, label_train, epochs=best_epoch_vgg, validation_split=0.2)"
   ]
  },
  {
   "cell_type": "code",
   "execution_count": 49,
   "id": "expected-cotton",
   "metadata": {},
   "outputs": [
    {
     "data": {
      "image/png": "[encoded data removed]",
      "text/plain": [
       "<Figure size 1080x360 with 2 Axes>"
      ]
     },
     "metadata": {
      "needs_background": "light"
     },
     "output_type": "display_data"
    }
   ],
   "source": [
    "plot_2(history=history_vgg, label_list=['train_acc', 'validation_acc'], ylim_low=0, leg_loc='upper left')"
   ]
  },
  {
   "cell_type": "code",
   "execution_count": 54,
   "id": "engaged-development",
   "metadata": {},
   "outputs": [
    {
     "name": "stdout",
     "output_type": "stream",
     "text": [
      "313/313 [==============================] - 4s 12ms/step - loss: 0.3187 - accuracy: 0.9196\n",
      "[test loss, test accuracy]: [0.31867173314094543, 0.9196000099182129]\n"
     ]
    }
   ],
   "source": [
    "## Evaluate the hyoermodel on the test data\n",
    "eval_result_vgg =hypermodel_vgg.evaluate(img_test, label_test)\n",
    "print(\"[test loss, test accuracy]:\", eval_result_vgg)"
   ]
  },
  {
   "cell_type": "code",
   "execution_count": 57,
   "id": "confirmed-sister",
   "metadata": {},
   "outputs": [
    {
     "data": {
      "text/plain": [
       "<Figure size 432x288 with 0 Axes>"
      ]
     },
     "metadata": {},
     "output_type": "display_data"
    }
   ],
   "source": [
    "## to plot Two plots with different History\n",
    "\n",
    "fig = plt.figure()\n",
    "fig.patch.set_facecolor('white')\n",
    "\n",
    "def plot_2_model(history1=history_vgg, history2=history_vgg,\n",
    "          ylim_low=0.4, ylim_high=1.0, \n",
    "          label_list=[]    ,       \n",
    "          leg_loc='lower left'):\n",
    "    fig = plt.figure(figsize=(15,5))\n",
    "\n",
    "    plt.subplot(1,2,1)\n",
    "    plt.plot(history1.history['accuracy'], label=label_list[0], c='orange', ls='-')\n",
    "    plt.plot(history1.history['val_accuracy'], c='orange',ls='--')\n",
    "\n",
    "    plt.plot(history2.history['accuracy'], label=label_list[1], c='blue', ls='-')\n",
    "    plt.plot(history2.history['val_accuracy'], c='blue', ls='--')\n",
    "    plt.ylabel('accuracy')\n",
    "    plt.xlabel('Epoch')\n",
    "    plt.grid(True)\n",
    "    plt.legend(loc=leg_loc)\n",
    "\n",
    "    plt.subplot(1,2,2)\n",
    "    plt.plot(history1.history['loss'], label=label_list[0], c='orange', ls='-')\n",
    "    plt.plot(history1.history['val_loss'],  c='orange',ls='--')\n",
    "\n",
    "    plt.plot(history2.history['loss'], label=label_list[1], c='blue', ls='-')\n",
    "    plt.plot(history2.history['val_loss'],  c='blue', ls='--')\n",
    "\n",
    "    plt.xlabel('Epoch')\n",
    "    plt.ylabel('loss')\n",
    "    plt.grid(True)\n",
    "    plt.legend(loc=leg_loc)\n",
    "    plt.ylim(ylim_low,ylim_high)"
   ]
  },
  {
   "cell_type": "code",
   "execution_count": 79,
   "id": "contemporary-ending",
   "metadata": {},
   "outputs": [
    {
     "data": {
      "image/png": "[encoded data removed]",
      "text/plain": [
       "<Figure size 1080x360 with 2 Axes>"
      ]
     },
     "metadata": {
      "needs_background": "light"
     },
     "output_type": "display_data"
    }
   ],
   "source": [
    "plot_2_model(history1=history, history2=history_vgg,label_list=['no-cnn', 'cnn'], ylim_low=0, leg_loc='upper left')"
   ]
  },
  {
   "cell_type": "code",
   "execution_count": 81,
   "id": "statewide-player",
   "metadata": {},
   "outputs": [],
   "source": [
    "def model_builder_vgg_L1reg(hp):\n",
    "    model= keras.Sequential()\n",
    "    model.add(keras.layers.Conv2D(32, (3,3), activation='relu', padding='same',input_shape=(28,28,1)))\n",
    "    model.add(keras.layers.Conv2D(32, (3,3), activation='relu', padding='same'))\n",
    "    model.add(keras.layers.MaxPooling2D(2, 2))\n",
    "        \n",
    "    # The second convolution\n",
    "    model.add(keras.layers.Conv2D(64, (3,3), activation='relu', padding='same'))\n",
    "    model.add(keras.layers.Conv2D(64, (3,3), activation='relu', padding='same'))\n",
    "    model.add(keras.layers.MaxPooling2D(2,2))\n",
    "        \n",
    "    # The third convolution\n",
    "    model.add(keras.layers.Conv2D(128, (3,3), activation='relu', padding='same'))\n",
    "    model.add(keras.layers.Conv2D(128, (3,3), activation='relu', padding='same'))\n",
    "    model.add(keras.layers.MaxPooling2D(2,2))\n",
    "   \n",
    "    model.add(keras.layers.Flatten())\n",
    "    \n",
    "    hp_units = hp.Int('units', min_value=32, max_value=512, step=32)\n",
    "    model.add(keras.layers.Dense(units=hp_units, activation='relu',kernel_regularizer=tf.keras.regularizers.L1(l1=0.001)))\n",
    "    model.add(keras.layers.Dense(10, activation='softmax'))\n",
    "    \n",
    "    hp_learning_rate = hp.Choice('learning_rate', values=[1e-2, 1e-3, 1e-4])\n",
    "    model.compile(optimizer=keras.optimizers.Adam(learning_rate=hp_learning_rate), \n",
    "                  loss='categorical_crossentropy', \n",
    "                  metrics=['accuracy'])\n",
    "    model.summary()\n",
    "    return model"
   ]
  },
  {
   "cell_type": "code",
   "execution_count": 83,
   "id": "accessory-greece",
   "metadata": {},
   "outputs": [
    {
     "name": "stdout",
     "output_type": "stream",
     "text": [
      "Model: \"sequential\"\n",
      "_________________________________________________________________\n",
      "Layer (type)                 Output Shape              Param #   \n",
      "=================================================================\n",
      "conv2d (Conv2D)              (None, 28, 28, 32)        320       \n",
      "_________________________________________________________________\n",
      "conv2d_1 (Conv2D)            (None, 28, 28, 32)        9248      \n",
      "_________________________________________________________________\n",
      "max_pooling2d (MaxPooling2D) (None, 14, 14, 32)        0         \n",
      "_________________________________________________________________\n",
      "conv2d_2 (Conv2D)            (None, 14, 14, 64)        18496     \n",
      "_________________________________________________________________\n",
      "conv2d_3 (Conv2D)            (None, 14, 14, 64)        36928     \n",
      "_________________________________________________________________\n",
      "max_pooling2d_1 (MaxPooling2 (None, 7, 7, 64)          0         \n",
      "_________________________________________________________________\n",
      "conv2d_4 (Conv2D)            (None, 7, 7, 128)         73856     \n",
      "_________________________________________________________________\n",
      "conv2d_5 (Conv2D)            (None, 7, 7, 128)         147584    \n",
      "_________________________________________________________________\n",
      "max_pooling2d_2 (MaxPooling2 (None, 3, 3, 128)         0         \n",
      "_________________________________________________________________\n",
      "flatten (Flatten)            (None, 1152)              0         \n",
      "_________________________________________________________________\n",
      "dense (Dense)                (None, 32)                36896     \n",
      "_________________________________________________________________\n",
      "dense_1 (Dense)              (None, 10)                330       \n",
      "=================================================================\n",
      "Total params: 323,658\n",
      "Trainable params: 323,658\n",
      "Non-trainable params: 0\n",
      "_________________________________________________________________\n"
     ]
    }
   ],
   "source": [
    "tuner_vgg_L1reg = kt.Hyperband(model_builder_vgg_L1reg, \n",
    "                    objective='val_accuracy',\n",
    "                    max_epochs=10,\n",
    "                    factor=3, # Int. Reduction factor for the number of epochs/number of models for each bracket.\n",
    "                        )"
   ]
  },
  {
   "cell_type": "code",
   "execution_count": 86,
   "id": "broke-heading",
   "metadata": {},
   "outputs": [
    {
     "name": "stdout",
     "output_type": "stream",
     "text": [
      "\n",
      "Search: Running Trial #2\n",
      "\n",
      "Hyperparameter    |Value             |Best Value So Far \n",
      "units             |32                |?                 \n",
      "learning_rate     |0.0001            |?                 \n",
      "tuner/epochs      |2                 |?                 \n",
      "tuner/initial_e...|0                 |?                 \n",
      "tuner/bracket     |2                 |?                 \n",
      "tuner/round       |0                 |?                 \n",
      "\n",
      "Model: \"sequential\"\n",
      "_________________________________________________________________\n",
      "Layer (type)                 Output Shape              Param #   \n",
      "=================================================================\n",
      "conv2d (Conv2D)              (None, 28, 28, 32)        320       \n",
      "_________________________________________________________________\n",
      "conv2d_1 (Conv2D)            (None, 28, 28, 32)        9248      \n",
      "_________________________________________________________________\n",
      "max_pooling2d (MaxPooling2D) (None, 14, 14, 32)        0         \n",
      "_________________________________________________________________\n",
      "conv2d_2 (Conv2D)            (None, 14, 14, 64)        18496     \n",
      "_________________________________________________________________\n",
      "conv2d_3 (Conv2D)            (None, 14, 14, 64)        36928     \n",
      "_________________________________________________________________\n",
      "max_pooling2d_1 (MaxPooling2 (None, 7, 7, 64)          0         \n",
      "_________________________________________________________________\n",
      "conv2d_4 (Conv2D)            (None, 7, 7, 128)         73856     \n",
      "_________________________________________________________________\n",
      "conv2d_5 (Conv2D)            (None, 7, 7, 128)         147584    \n",
      "_________________________________________________________________\n",
      "max_pooling2d_2 (MaxPooling2 (None, 3, 3, 128)         0         \n",
      "_________________________________________________________________\n",
      "flatten (Flatten)            (None, 1152)              0         \n",
      "_________________________________________________________________\n",
      "dense (Dense)                (None, 32)                36896     \n",
      "_________________________________________________________________\n",
      "dense_1 (Dense)              (None, 10)                330       \n",
      "=================================================================\n",
      "Total params: 323,658\n",
      "Trainable params: 323,658\n",
      "Non-trainable params: 0\n",
      "_________________________________________________________________\n",
      "Epoch 1/2\n"
     ]
    },
    {
     "ename": "ValueError",
     "evalue": "in user code:\n\n    /home/pooja/.local/lib/python3.8/site-packages/tensorflow/python/keras/engine/training.py:805 train_function  *\n        return step_function(self, iterator)\n    /home/pooja/.local/lib/python3.8/site-packages/tensorflow/python/keras/engine/training.py:795 step_function  **\n        outputs = model.distribute_strategy.run(run_step, args=(data,))\n    /home/pooja/.local/lib/python3.8/site-packages/tensorflow/python/distribute/distribute_lib.py:1259 run\n        return self._extended.call_for_each_replica(fn, args=args, kwargs=kwargs)\n    /home/pooja/.local/lib/python3.8/site-packages/tensorflow/python/distribute/distribute_lib.py:2730 call_for_each_replica\n        return self._call_for_each_replica(fn, args, kwargs)\n    /home/pooja/.local/lib/python3.8/site-packages/tensorflow/python/distribute/distribute_lib.py:3417 _call_for_each_replica\n        return fn(*args, **kwargs)\n    /home/pooja/.local/lib/python3.8/site-packages/tensorflow/python/keras/engine/training.py:788 run_step  **\n        outputs = model.train_step(data)\n    /home/pooja/.local/lib/python3.8/site-packages/tensorflow/python/keras/engine/training.py:755 train_step\n        loss = self.compiled_loss(\n    /home/pooja/.local/lib/python3.8/site-packages/tensorflow/python/keras/engine/compile_utils.py:203 __call__\n        loss_value = loss_obj(y_t, y_p, sample_weight=sw)\n    /home/pooja/.local/lib/python3.8/site-packages/tensorflow/python/keras/losses.py:152 __call__\n        losses = call_fn(y_true, y_pred)\n    /home/pooja/.local/lib/python3.8/site-packages/tensorflow/python/keras/losses.py:256 call  **\n        return ag_fn(y_true, y_pred, **self._fn_kwargs)\n    /home/pooja/.local/lib/python3.8/site-packages/tensorflow/python/util/dispatch.py:201 wrapper\n        return target(*args, **kwargs)\n    /home/pooja/.local/lib/python3.8/site-packages/tensorflow/python/keras/losses.py:1537 categorical_crossentropy\n        return K.categorical_crossentropy(y_true, y_pred, from_logits=from_logits)\n    /home/pooja/.local/lib/python3.8/site-packages/tensorflow/python/util/dispatch.py:201 wrapper\n        return target(*args, **kwargs)\n    /home/pooja/.local/lib/python3.8/site-packages/tensorflow/python/keras/backend.py:4833 categorical_crossentropy\n        target.shape.assert_is_compatible_with(output.shape)\n    /home/pooja/.local/lib/python3.8/site-packages/tensorflow/python/framework/tensor_shape.py:1134 assert_is_compatible_with\n        raise ValueError(\"Shapes %s and %s are incompatible\" % (self, other))\n\n    ValueError: Shapes (32, 1) and (32, 10) are incompatible\n",
     "output_type": "error",
     "traceback": [
      "\u001b[0;31m---------------------------------------------------------------------------\u001b[0m",
      "\u001b[0;31mValueError\u001b[0m                                Traceback (most recent call last)",
      "\u001b[0;32m<ipython-input-86-1c694b278bbd>\u001b[0m in \u001b[0;36m<module>\u001b[0;34m\u001b[0m\n\u001b[0;32m----> 1\u001b[0;31m \u001b[0mtuner_vgg_L1reg\u001b[0m\u001b[0;34m.\u001b[0m\u001b[0msearch\u001b[0m\u001b[0;34m(\u001b[0m\u001b[0mimg_train\u001b[0m\u001b[0;34m,\u001b[0m \u001b[0mlabel_train\u001b[0m\u001b[0;34m,\u001b[0m \u001b[0mepochs\u001b[0m\u001b[0;34m=\u001b[0m\u001b[0;36m20\u001b[0m\u001b[0;34m,\u001b[0m \u001b[0mvalidation_split\u001b[0m\u001b[0;34m=\u001b[0m\u001b[0;36m0.2\u001b[0m\u001b[0;34m,\u001b[0m \u001b[0mcallbacks\u001b[0m\u001b[0;34m=\u001b[0m\u001b[0;34m[\u001b[0m\u001b[0mstop_early\u001b[0m\u001b[0;34m]\u001b[0m\u001b[0;34m)\u001b[0m\u001b[0;34m\u001b[0m\u001b[0;34m\u001b[0m\u001b[0m\n\u001b[0m\u001b[1;32m      2\u001b[0m \u001b[0;34m\u001b[0m\u001b[0m\n\u001b[1;32m      3\u001b[0m \u001b[0;31m## get the optimal hyperparameters\u001b[0m\u001b[0;34m\u001b[0m\u001b[0;34m\u001b[0m\u001b[0;34m\u001b[0m\u001b[0m\n\u001b[1;32m      4\u001b[0m \u001b[0mbest_hp_vgg_L1reg\u001b[0m\u001b[0;34m=\u001b[0m\u001b[0mtuner_vgg_L1ref\u001b[0m\u001b[0;34m.\u001b[0m\u001b[0mget_best_hyperparameters\u001b[0m\u001b[0;34m(\u001b[0m\u001b[0mnum_trials\u001b[0m\u001b[0;34m=\u001b[0m\u001b[0;36m1\u001b[0m\u001b[0;34m)\u001b[0m\u001b[0;34m[\u001b[0m\u001b[0;36m0\u001b[0m\u001b[0;34m]\u001b[0m\u001b[0;34m\u001b[0m\u001b[0;34m\u001b[0m\u001b[0m\n\u001b[1;32m      5\u001b[0m \u001b[0;34m\u001b[0m\u001b[0m\n",
      "\u001b[0;32m~/.local/lib/python3.8/site-packages/kerastuner/engine/base_tuner.py\u001b[0m in \u001b[0;36msearch\u001b[0;34m(self, *fit_args, **fit_kwargs)\u001b[0m\n\u001b[1;32m    129\u001b[0m \u001b[0;34m\u001b[0m\u001b[0m\n\u001b[1;32m    130\u001b[0m             \u001b[0mself\u001b[0m\u001b[0;34m.\u001b[0m\u001b[0mon_trial_begin\u001b[0m\u001b[0;34m(\u001b[0m\u001b[0mtrial\u001b[0m\u001b[0;34m)\u001b[0m\u001b[0;34m\u001b[0m\u001b[0;34m\u001b[0m\u001b[0m\n\u001b[0;32m--> 131\u001b[0;31m             \u001b[0mself\u001b[0m\u001b[0;34m.\u001b[0m\u001b[0mrun_trial\u001b[0m\u001b[0;34m(\u001b[0m\u001b[0mtrial\u001b[0m\u001b[0;34m,\u001b[0m \u001b[0;34m*\u001b[0m\u001b[0mfit_args\u001b[0m\u001b[0;34m,\u001b[0m \u001b[0;34m**\u001b[0m\u001b[0mfit_kwargs\u001b[0m\u001b[0;34m)\u001b[0m\u001b[0;34m\u001b[0m\u001b[0;34m\u001b[0m\u001b[0m\n\u001b[0m\u001b[1;32m    132\u001b[0m             \u001b[0mself\u001b[0m\u001b[0;34m.\u001b[0m\u001b[0mon_trial_end\u001b[0m\u001b[0;34m(\u001b[0m\u001b[0mtrial\u001b[0m\u001b[0;34m)\u001b[0m\u001b[0;34m\u001b[0m\u001b[0;34m\u001b[0m\u001b[0m\n\u001b[1;32m    133\u001b[0m         \u001b[0mself\u001b[0m\u001b[0;34m.\u001b[0m\u001b[0mon_search_end\u001b[0m\u001b[0;34m(\u001b[0m\u001b[0;34m)\u001b[0m\u001b[0;34m\u001b[0m\u001b[0;34m\u001b[0m\u001b[0m\n",
      "\u001b[0;32m~/.local/lib/python3.8/site-packages/kerastuner/tuners/hyperband.py\u001b[0m in \u001b[0;36mrun_trial\u001b[0;34m(self, trial, *fit_args, **fit_kwargs)\u001b[0m\n\u001b[1;32m    352\u001b[0m             \u001b[0mfit_kwargs\u001b[0m\u001b[0;34m[\u001b[0m\u001b[0;34m'epochs'\u001b[0m\u001b[0;34m]\u001b[0m \u001b[0;34m=\u001b[0m \u001b[0mhp\u001b[0m\u001b[0;34m.\u001b[0m\u001b[0mvalues\u001b[0m\u001b[0;34m[\u001b[0m\u001b[0;34m'tuner/epochs'\u001b[0m\u001b[0;34m]\u001b[0m\u001b[0;34m\u001b[0m\u001b[0;34m\u001b[0m\u001b[0m\n\u001b[1;32m    353\u001b[0m             \u001b[0mfit_kwargs\u001b[0m\u001b[0;34m[\u001b[0m\u001b[0;34m'initial_epoch'\u001b[0m\u001b[0;34m]\u001b[0m \u001b[0;34m=\u001b[0m \u001b[0mhp\u001b[0m\u001b[0;34m.\u001b[0m\u001b[0mvalues\u001b[0m\u001b[0;34m[\u001b[0m\u001b[0;34m'tuner/initial_epoch'\u001b[0m\u001b[0;34m]\u001b[0m\u001b[0;34m\u001b[0m\u001b[0;34m\u001b[0m\u001b[0m\n\u001b[0;32m--> 354\u001b[0;31m         \u001b[0msuper\u001b[0m\u001b[0;34m(\u001b[0m\u001b[0mHyperband\u001b[0m\u001b[0;34m,\u001b[0m \u001b[0mself\u001b[0m\u001b[0;34m)\u001b[0m\u001b[0;34m.\u001b[0m\u001b[0mrun_trial\u001b[0m\u001b[0;34m(\u001b[0m\u001b[0mtrial\u001b[0m\u001b[0;34m,\u001b[0m \u001b[0;34m*\u001b[0m\u001b[0mfit_args\u001b[0m\u001b[0;34m,\u001b[0m \u001b[0;34m**\u001b[0m\u001b[0mfit_kwargs\u001b[0m\u001b[0;34m)\u001b[0m\u001b[0;34m\u001b[0m\u001b[0;34m\u001b[0m\u001b[0m\n\u001b[0m\u001b[1;32m    355\u001b[0m \u001b[0;34m\u001b[0m\u001b[0m\n\u001b[1;32m    356\u001b[0m     \u001b[0;32mdef\u001b[0m \u001b[0m_build_model\u001b[0m\u001b[0;34m(\u001b[0m\u001b[0mself\u001b[0m\u001b[0;34m,\u001b[0m \u001b[0mhp\u001b[0m\u001b[0;34m)\u001b[0m\u001b[0;34m:\u001b[0m\u001b[0;34m\u001b[0m\u001b[0;34m\u001b[0m\u001b[0m\n",
      "\u001b[0;32m~/.local/lib/python3.8/site-packages/kerastuner/engine/multi_execution_tuner.py\u001b[0m in \u001b[0;36mrun_trial\u001b[0;34m(self, trial, *fit_args, **fit_kwargs)\u001b[0m\n\u001b[1;32m     94\u001b[0m             \u001b[0mcopied_fit_kwargs\u001b[0m\u001b[0;34m[\u001b[0m\u001b[0;34m'callbacks'\u001b[0m\u001b[0;34m]\u001b[0m \u001b[0;34m=\u001b[0m \u001b[0mcallbacks\u001b[0m\u001b[0;34m\u001b[0m\u001b[0;34m\u001b[0m\u001b[0m\n\u001b[1;32m     95\u001b[0m \u001b[0;34m\u001b[0m\u001b[0m\n\u001b[0;32m---> 96\u001b[0;31m             \u001b[0mhistory\u001b[0m \u001b[0;34m=\u001b[0m \u001b[0mself\u001b[0m\u001b[0;34m.\u001b[0m\u001b[0m_build_and_fit_model\u001b[0m\u001b[0;34m(\u001b[0m\u001b[0mtrial\u001b[0m\u001b[0;34m,\u001b[0m \u001b[0mfit_args\u001b[0m\u001b[0;34m,\u001b[0m \u001b[0mcopied_fit_kwargs\u001b[0m\u001b[0;34m)\u001b[0m\u001b[0;34m\u001b[0m\u001b[0;34m\u001b[0m\u001b[0m\n\u001b[0m\u001b[1;32m     97\u001b[0m             \u001b[0;32mfor\u001b[0m \u001b[0mmetric\u001b[0m\u001b[0;34m,\u001b[0m \u001b[0mepoch_values\u001b[0m \u001b[0;32min\u001b[0m \u001b[0mhistory\u001b[0m\u001b[0;34m.\u001b[0m\u001b[0mhistory\u001b[0m\u001b[0;34m.\u001b[0m\u001b[0mitems\u001b[0m\u001b[0;34m(\u001b[0m\u001b[0;34m)\u001b[0m\u001b[0;34m:\u001b[0m\u001b[0;34m\u001b[0m\u001b[0;34m\u001b[0m\u001b[0m\n\u001b[1;32m     98\u001b[0m                 \u001b[0;32mif\u001b[0m \u001b[0mself\u001b[0m\u001b[0;34m.\u001b[0m\u001b[0moracle\u001b[0m\u001b[0;34m.\u001b[0m\u001b[0mobjective\u001b[0m\u001b[0;34m.\u001b[0m\u001b[0mdirection\u001b[0m \u001b[0;34m==\u001b[0m \u001b[0;34m'min'\u001b[0m\u001b[0;34m:\u001b[0m\u001b[0;34m\u001b[0m\u001b[0;34m\u001b[0m\u001b[0m\n",
      "\u001b[0;32m~/.local/lib/python3.8/site-packages/kerastuner/engine/tuner.py\u001b[0m in \u001b[0;36m_build_and_fit_model\u001b[0;34m(self, trial, fit_args, fit_kwargs)\u001b[0m\n\u001b[1;32m    139\u001b[0m         \"\"\"\n\u001b[1;32m    140\u001b[0m         \u001b[0mmodel\u001b[0m \u001b[0;34m=\u001b[0m \u001b[0mself\u001b[0m\u001b[0;34m.\u001b[0m\u001b[0mhypermodel\u001b[0m\u001b[0;34m.\u001b[0m\u001b[0mbuild\u001b[0m\u001b[0;34m(\u001b[0m\u001b[0mtrial\u001b[0m\u001b[0;34m.\u001b[0m\u001b[0mhyperparameters\u001b[0m\u001b[0;34m)\u001b[0m\u001b[0;34m\u001b[0m\u001b[0;34m\u001b[0m\u001b[0m\n\u001b[0;32m--> 141\u001b[0;31m         \u001b[0;32mreturn\u001b[0m \u001b[0mmodel\u001b[0m\u001b[0;34m.\u001b[0m\u001b[0mfit\u001b[0m\u001b[0;34m(\u001b[0m\u001b[0;34m*\u001b[0m\u001b[0mfit_args\u001b[0m\u001b[0;34m,\u001b[0m \u001b[0;34m**\u001b[0m\u001b[0mfit_kwargs\u001b[0m\u001b[0;34m)\u001b[0m\u001b[0;34m\u001b[0m\u001b[0;34m\u001b[0m\u001b[0m\n\u001b[0m\u001b[1;32m    142\u001b[0m \u001b[0;34m\u001b[0m\u001b[0m\n\u001b[1;32m    143\u001b[0m     \u001b[0;32mdef\u001b[0m \u001b[0mrun_trial\u001b[0m\u001b[0;34m(\u001b[0m\u001b[0mself\u001b[0m\u001b[0;34m,\u001b[0m \u001b[0mtrial\u001b[0m\u001b[0;34m,\u001b[0m \u001b[0;34m*\u001b[0m\u001b[0mfit_args\u001b[0m\u001b[0;34m,\u001b[0m \u001b[0;34m**\u001b[0m\u001b[0mfit_kwargs\u001b[0m\u001b[0;34m)\u001b[0m\u001b[0;34m:\u001b[0m\u001b[0;34m\u001b[0m\u001b[0;34m\u001b[0m\u001b[0m\n",
      "\u001b[0;32m~/.local/lib/python3.8/site-packages/tensorflow/python/keras/engine/training.py\u001b[0m in \u001b[0;36mfit\u001b[0;34m(self, x, y, batch_size, epochs, verbose, callbacks, validation_split, validation_data, shuffle, class_weight, sample_weight, initial_epoch, steps_per_epoch, validation_steps, validation_batch_size, validation_freq, max_queue_size, workers, use_multiprocessing)\u001b[0m\n\u001b[1;32m   1098\u001b[0m                 _r=1):\n\u001b[1;32m   1099\u001b[0m               \u001b[0mcallbacks\u001b[0m\u001b[0;34m.\u001b[0m\u001b[0mon_train_batch_begin\u001b[0m\u001b[0;34m(\u001b[0m\u001b[0mstep\u001b[0m\u001b[0;34m)\u001b[0m\u001b[0;34m\u001b[0m\u001b[0;34m\u001b[0m\u001b[0m\n\u001b[0;32m-> 1100\u001b[0;31m               \u001b[0mtmp_logs\u001b[0m \u001b[0;34m=\u001b[0m \u001b[0mself\u001b[0m\u001b[0;34m.\u001b[0m\u001b[0mtrain_function\u001b[0m\u001b[0;34m(\u001b[0m\u001b[0miterator\u001b[0m\u001b[0;34m)\u001b[0m\u001b[0;34m\u001b[0m\u001b[0;34m\u001b[0m\u001b[0m\n\u001b[0m\u001b[1;32m   1101\u001b[0m               \u001b[0;32mif\u001b[0m \u001b[0mdata_handler\u001b[0m\u001b[0;34m.\u001b[0m\u001b[0mshould_sync\u001b[0m\u001b[0;34m:\u001b[0m\u001b[0;34m\u001b[0m\u001b[0;34m\u001b[0m\u001b[0m\n\u001b[1;32m   1102\u001b[0m                 \u001b[0mcontext\u001b[0m\u001b[0;34m.\u001b[0m\u001b[0masync_wait\u001b[0m\u001b[0;34m(\u001b[0m\u001b[0;34m)\u001b[0m\u001b[0;34m\u001b[0m\u001b[0;34m\u001b[0m\u001b[0m\n",
      "\u001b[0;32m~/.local/lib/python3.8/site-packages/tensorflow/python/eager/def_function.py\u001b[0m in \u001b[0;36m__call__\u001b[0;34m(self, *args, **kwds)\u001b[0m\n\u001b[1;32m    826\u001b[0m     \u001b[0mtracing_count\u001b[0m \u001b[0;34m=\u001b[0m \u001b[0mself\u001b[0m\u001b[0;34m.\u001b[0m\u001b[0mexperimental_get_tracing_count\u001b[0m\u001b[0;34m(\u001b[0m\u001b[0;34m)\u001b[0m\u001b[0;34m\u001b[0m\u001b[0;34m\u001b[0m\u001b[0m\n\u001b[1;32m    827\u001b[0m     \u001b[0;32mwith\u001b[0m \u001b[0mtrace\u001b[0m\u001b[0;34m.\u001b[0m\u001b[0mTrace\u001b[0m\u001b[0;34m(\u001b[0m\u001b[0mself\u001b[0m\u001b[0;34m.\u001b[0m\u001b[0m_name\u001b[0m\u001b[0;34m)\u001b[0m \u001b[0;32mas\u001b[0m \u001b[0mtm\u001b[0m\u001b[0;34m:\u001b[0m\u001b[0;34m\u001b[0m\u001b[0;34m\u001b[0m\u001b[0m\n\u001b[0;32m--> 828\u001b[0;31m       \u001b[0mresult\u001b[0m \u001b[0;34m=\u001b[0m \u001b[0mself\u001b[0m\u001b[0;34m.\u001b[0m\u001b[0m_call\u001b[0m\u001b[0;34m(\u001b[0m\u001b[0;34m*\u001b[0m\u001b[0margs\u001b[0m\u001b[0;34m,\u001b[0m \u001b[0;34m**\u001b[0m\u001b[0mkwds\u001b[0m\u001b[0;34m)\u001b[0m\u001b[0;34m\u001b[0m\u001b[0;34m\u001b[0m\u001b[0m\n\u001b[0m\u001b[1;32m    829\u001b[0m       \u001b[0mcompiler\u001b[0m \u001b[0;34m=\u001b[0m \u001b[0;34m\"xla\"\u001b[0m \u001b[0;32mif\u001b[0m \u001b[0mself\u001b[0m\u001b[0;34m.\u001b[0m\u001b[0m_experimental_compile\u001b[0m \u001b[0;32melse\u001b[0m \u001b[0;34m\"nonXla\"\u001b[0m\u001b[0;34m\u001b[0m\u001b[0;34m\u001b[0m\u001b[0m\n\u001b[1;32m    830\u001b[0m       \u001b[0mnew_tracing_count\u001b[0m \u001b[0;34m=\u001b[0m \u001b[0mself\u001b[0m\u001b[0;34m.\u001b[0m\u001b[0mexperimental_get_tracing_count\u001b[0m\u001b[0;34m(\u001b[0m\u001b[0;34m)\u001b[0m\u001b[0;34m\u001b[0m\u001b[0;34m\u001b[0m\u001b[0m\n",
      "\u001b[0;32m~/.local/lib/python3.8/site-packages/tensorflow/python/eager/def_function.py\u001b[0m in \u001b[0;36m_call\u001b[0;34m(self, *args, **kwds)\u001b[0m\n\u001b[1;32m    869\u001b[0m       \u001b[0;31m# This is the first call of __call__, so we have to initialize.\u001b[0m\u001b[0;34m\u001b[0m\u001b[0;34m\u001b[0m\u001b[0;34m\u001b[0m\u001b[0m\n\u001b[1;32m    870\u001b[0m       \u001b[0minitializers\u001b[0m \u001b[0;34m=\u001b[0m \u001b[0;34m[\u001b[0m\u001b[0;34m]\u001b[0m\u001b[0;34m\u001b[0m\u001b[0;34m\u001b[0m\u001b[0m\n\u001b[0;32m--> 871\u001b[0;31m       \u001b[0mself\u001b[0m\u001b[0;34m.\u001b[0m\u001b[0m_initialize\u001b[0m\u001b[0;34m(\u001b[0m\u001b[0margs\u001b[0m\u001b[0;34m,\u001b[0m \u001b[0mkwds\u001b[0m\u001b[0;34m,\u001b[0m \u001b[0madd_initializers_to\u001b[0m\u001b[0;34m=\u001b[0m\u001b[0minitializers\u001b[0m\u001b[0;34m)\u001b[0m\u001b[0;34m\u001b[0m\u001b[0;34m\u001b[0m\u001b[0m\n\u001b[0m\u001b[1;32m    872\u001b[0m     \u001b[0;32mfinally\u001b[0m\u001b[0;34m:\u001b[0m\u001b[0;34m\u001b[0m\u001b[0;34m\u001b[0m\u001b[0m\n\u001b[1;32m    873\u001b[0m       \u001b[0;31m# At this point we know that the initialization is complete (or less\u001b[0m\u001b[0;34m\u001b[0m\u001b[0;34m\u001b[0m\u001b[0;34m\u001b[0m\u001b[0m\n",
      "\u001b[0;32m~/.local/lib/python3.8/site-packages/tensorflow/python/eager/def_function.py\u001b[0m in \u001b[0;36m_initialize\u001b[0;34m(self, args, kwds, add_initializers_to)\u001b[0m\n\u001b[1;32m    723\u001b[0m     \u001b[0mself\u001b[0m\u001b[0;34m.\u001b[0m\u001b[0m_graph_deleter\u001b[0m \u001b[0;34m=\u001b[0m \u001b[0mFunctionDeleter\u001b[0m\u001b[0;34m(\u001b[0m\u001b[0mself\u001b[0m\u001b[0;34m.\u001b[0m\u001b[0m_lifted_initializer_graph\u001b[0m\u001b[0;34m)\u001b[0m\u001b[0;34m\u001b[0m\u001b[0;34m\u001b[0m\u001b[0m\n\u001b[1;32m    724\u001b[0m     self._concrete_stateful_fn = (\n\u001b[0;32m--> 725\u001b[0;31m         self._stateful_fn._get_concrete_function_internal_garbage_collected(  # pylint: disable=protected-access\n\u001b[0m\u001b[1;32m    726\u001b[0m             *args, **kwds))\n\u001b[1;32m    727\u001b[0m \u001b[0;34m\u001b[0m\u001b[0m\n",
      "\u001b[0;32m~/.local/lib/python3.8/site-packages/tensorflow/python/eager/function.py\u001b[0m in \u001b[0;36m_get_concrete_function_internal_garbage_collected\u001b[0;34m(self, *args, **kwargs)\u001b[0m\n\u001b[1;32m   2967\u001b[0m       \u001b[0margs\u001b[0m\u001b[0;34m,\u001b[0m \u001b[0mkwargs\u001b[0m \u001b[0;34m=\u001b[0m \u001b[0;32mNone\u001b[0m\u001b[0;34m,\u001b[0m \u001b[0;32mNone\u001b[0m\u001b[0;34m\u001b[0m\u001b[0;34m\u001b[0m\u001b[0m\n\u001b[1;32m   2968\u001b[0m     \u001b[0;32mwith\u001b[0m \u001b[0mself\u001b[0m\u001b[0;34m.\u001b[0m\u001b[0m_lock\u001b[0m\u001b[0;34m:\u001b[0m\u001b[0;34m\u001b[0m\u001b[0;34m\u001b[0m\u001b[0m\n\u001b[0;32m-> 2969\u001b[0;31m       \u001b[0mgraph_function\u001b[0m\u001b[0;34m,\u001b[0m \u001b[0m_\u001b[0m \u001b[0;34m=\u001b[0m \u001b[0mself\u001b[0m\u001b[0;34m.\u001b[0m\u001b[0m_maybe_define_function\u001b[0m\u001b[0;34m(\u001b[0m\u001b[0margs\u001b[0m\u001b[0;34m,\u001b[0m \u001b[0mkwargs\u001b[0m\u001b[0;34m)\u001b[0m\u001b[0;34m\u001b[0m\u001b[0;34m\u001b[0m\u001b[0m\n\u001b[0m\u001b[1;32m   2970\u001b[0m     \u001b[0;32mreturn\u001b[0m \u001b[0mgraph_function\u001b[0m\u001b[0;34m\u001b[0m\u001b[0;34m\u001b[0m\u001b[0m\n\u001b[1;32m   2971\u001b[0m \u001b[0;34m\u001b[0m\u001b[0m\n",
      "\u001b[0;32m~/.local/lib/python3.8/site-packages/tensorflow/python/eager/function.py\u001b[0m in \u001b[0;36m_maybe_define_function\u001b[0;34m(self, args, kwargs)\u001b[0m\n\u001b[1;32m   3359\u001b[0m \u001b[0;34m\u001b[0m\u001b[0m\n\u001b[1;32m   3360\u001b[0m           \u001b[0mself\u001b[0m\u001b[0;34m.\u001b[0m\u001b[0m_function_cache\u001b[0m\u001b[0;34m.\u001b[0m\u001b[0mmissed\u001b[0m\u001b[0;34m.\u001b[0m\u001b[0madd\u001b[0m\u001b[0;34m(\u001b[0m\u001b[0mcall_context_key\u001b[0m\u001b[0;34m)\u001b[0m\u001b[0;34m\u001b[0m\u001b[0;34m\u001b[0m\u001b[0m\n\u001b[0;32m-> 3361\u001b[0;31m           \u001b[0mgraph_function\u001b[0m \u001b[0;34m=\u001b[0m \u001b[0mself\u001b[0m\u001b[0;34m.\u001b[0m\u001b[0m_create_graph_function\u001b[0m\u001b[0;34m(\u001b[0m\u001b[0margs\u001b[0m\u001b[0;34m,\u001b[0m \u001b[0mkwargs\u001b[0m\u001b[0;34m)\u001b[0m\u001b[0;34m\u001b[0m\u001b[0;34m\u001b[0m\u001b[0m\n\u001b[0m\u001b[1;32m   3362\u001b[0m           \u001b[0mself\u001b[0m\u001b[0;34m.\u001b[0m\u001b[0m_function_cache\u001b[0m\u001b[0;34m.\u001b[0m\u001b[0mprimary\u001b[0m\u001b[0;34m[\u001b[0m\u001b[0mcache_key\u001b[0m\u001b[0;34m]\u001b[0m \u001b[0;34m=\u001b[0m \u001b[0mgraph_function\u001b[0m\u001b[0;34m\u001b[0m\u001b[0;34m\u001b[0m\u001b[0m\n\u001b[1;32m   3363\u001b[0m \u001b[0;34m\u001b[0m\u001b[0m\n",
      "\u001b[0;32m~/.local/lib/python3.8/site-packages/tensorflow/python/eager/function.py\u001b[0m in \u001b[0;36m_create_graph_function\u001b[0;34m(self, args, kwargs, override_flat_arg_shapes)\u001b[0m\n\u001b[1;32m   3194\u001b[0m     \u001b[0marg_names\u001b[0m \u001b[0;34m=\u001b[0m \u001b[0mbase_arg_names\u001b[0m \u001b[0;34m+\u001b[0m \u001b[0mmissing_arg_names\u001b[0m\u001b[0;34m\u001b[0m\u001b[0;34m\u001b[0m\u001b[0m\n\u001b[1;32m   3195\u001b[0m     graph_function = ConcreteFunction(\n\u001b[0;32m-> 3196\u001b[0;31m         func_graph_module.func_graph_from_py_func(\n\u001b[0m\u001b[1;32m   3197\u001b[0m             \u001b[0mself\u001b[0m\u001b[0;34m.\u001b[0m\u001b[0m_name\u001b[0m\u001b[0;34m,\u001b[0m\u001b[0;34m\u001b[0m\u001b[0;34m\u001b[0m\u001b[0m\n\u001b[1;32m   3198\u001b[0m             \u001b[0mself\u001b[0m\u001b[0;34m.\u001b[0m\u001b[0m_python_function\u001b[0m\u001b[0;34m,\u001b[0m\u001b[0;34m\u001b[0m\u001b[0;34m\u001b[0m\u001b[0m\n",
      "\u001b[0;32m~/.local/lib/python3.8/site-packages/tensorflow/python/framework/func_graph.py\u001b[0m in \u001b[0;36mfunc_graph_from_py_func\u001b[0;34m(name, python_func, args, kwargs, signature, func_graph, autograph, autograph_options, add_control_dependencies, arg_names, op_return_value, collections, capture_by_value, override_flat_arg_shapes)\u001b[0m\n\u001b[1;32m    988\u001b[0m         \u001b[0m_\u001b[0m\u001b[0;34m,\u001b[0m \u001b[0moriginal_func\u001b[0m \u001b[0;34m=\u001b[0m \u001b[0mtf_decorator\u001b[0m\u001b[0;34m.\u001b[0m\u001b[0munwrap\u001b[0m\u001b[0;34m(\u001b[0m\u001b[0mpython_func\u001b[0m\u001b[0;34m)\u001b[0m\u001b[0;34m\u001b[0m\u001b[0;34m\u001b[0m\u001b[0m\n\u001b[1;32m    989\u001b[0m \u001b[0;34m\u001b[0m\u001b[0m\n\u001b[0;32m--> 990\u001b[0;31m       \u001b[0mfunc_outputs\u001b[0m \u001b[0;34m=\u001b[0m \u001b[0mpython_func\u001b[0m\u001b[0;34m(\u001b[0m\u001b[0;34m*\u001b[0m\u001b[0mfunc_args\u001b[0m\u001b[0;34m,\u001b[0m \u001b[0;34m**\u001b[0m\u001b[0mfunc_kwargs\u001b[0m\u001b[0;34m)\u001b[0m\u001b[0;34m\u001b[0m\u001b[0;34m\u001b[0m\u001b[0m\n\u001b[0m\u001b[1;32m    991\u001b[0m \u001b[0;34m\u001b[0m\u001b[0m\n\u001b[1;32m    992\u001b[0m       \u001b[0;31m# invariant: `func_outputs` contains only Tensors, CompositeTensors,\u001b[0m\u001b[0;34m\u001b[0m\u001b[0;34m\u001b[0m\u001b[0;34m\u001b[0m\u001b[0m\n",
      "\u001b[0;32m~/.local/lib/python3.8/site-packages/tensorflow/python/eager/def_function.py\u001b[0m in \u001b[0;36mwrapped_fn\u001b[0;34m(*args, **kwds)\u001b[0m\n\u001b[1;32m    632\u001b[0m             \u001b[0mxla_context\u001b[0m\u001b[0;34m.\u001b[0m\u001b[0mExit\u001b[0m\u001b[0;34m(\u001b[0m\u001b[0;34m)\u001b[0m\u001b[0;34m\u001b[0m\u001b[0;34m\u001b[0m\u001b[0m\n\u001b[1;32m    633\u001b[0m         \u001b[0;32melse\u001b[0m\u001b[0;34m:\u001b[0m\u001b[0;34m\u001b[0m\u001b[0;34m\u001b[0m\u001b[0m\n\u001b[0;32m--> 634\u001b[0;31m           \u001b[0mout\u001b[0m \u001b[0;34m=\u001b[0m \u001b[0mweak_wrapped_fn\u001b[0m\u001b[0;34m(\u001b[0m\u001b[0;34m)\u001b[0m\u001b[0;34m.\u001b[0m\u001b[0m__wrapped__\u001b[0m\u001b[0;34m(\u001b[0m\u001b[0;34m*\u001b[0m\u001b[0margs\u001b[0m\u001b[0;34m,\u001b[0m \u001b[0;34m**\u001b[0m\u001b[0mkwds\u001b[0m\u001b[0;34m)\u001b[0m\u001b[0;34m\u001b[0m\u001b[0;34m\u001b[0m\u001b[0m\n\u001b[0m\u001b[1;32m    635\u001b[0m         \u001b[0;32mreturn\u001b[0m \u001b[0mout\u001b[0m\u001b[0;34m\u001b[0m\u001b[0;34m\u001b[0m\u001b[0m\n\u001b[1;32m    636\u001b[0m \u001b[0;34m\u001b[0m\u001b[0m\n",
      "\u001b[0;32m~/.local/lib/python3.8/site-packages/tensorflow/python/framework/func_graph.py\u001b[0m in \u001b[0;36mwrapper\u001b[0;34m(*args, **kwargs)\u001b[0m\n\u001b[1;32m    975\u001b[0m           \u001b[0;32mexcept\u001b[0m \u001b[0mException\u001b[0m \u001b[0;32mas\u001b[0m \u001b[0me\u001b[0m\u001b[0;34m:\u001b[0m  \u001b[0;31m# pylint:disable=broad-except\u001b[0m\u001b[0;34m\u001b[0m\u001b[0;34m\u001b[0m\u001b[0m\n\u001b[1;32m    976\u001b[0m             \u001b[0;32mif\u001b[0m \u001b[0mhasattr\u001b[0m\u001b[0;34m(\u001b[0m\u001b[0me\u001b[0m\u001b[0;34m,\u001b[0m \u001b[0;34m\"ag_error_metadata\"\u001b[0m\u001b[0;34m)\u001b[0m\u001b[0;34m:\u001b[0m\u001b[0;34m\u001b[0m\u001b[0;34m\u001b[0m\u001b[0m\n\u001b[0;32m--> 977\u001b[0;31m               \u001b[0;32mraise\u001b[0m \u001b[0me\u001b[0m\u001b[0;34m.\u001b[0m\u001b[0mag_error_metadata\u001b[0m\u001b[0;34m.\u001b[0m\u001b[0mto_exception\u001b[0m\u001b[0;34m(\u001b[0m\u001b[0me\u001b[0m\u001b[0;34m)\u001b[0m\u001b[0;34m\u001b[0m\u001b[0;34m\u001b[0m\u001b[0m\n\u001b[0m\u001b[1;32m    978\u001b[0m             \u001b[0;32melse\u001b[0m\u001b[0;34m:\u001b[0m\u001b[0;34m\u001b[0m\u001b[0;34m\u001b[0m\u001b[0m\n\u001b[1;32m    979\u001b[0m               \u001b[0;32mraise\u001b[0m\u001b[0;34m\u001b[0m\u001b[0;34m\u001b[0m\u001b[0m\n",
      "\u001b[0;31mValueError\u001b[0m: in user code:\n\n    /home/pooja/.local/lib/python3.8/site-packages/tensorflow/python/keras/engine/training.py:805 train_function  *\n        return step_function(self, iterator)\n    /home/pooja/.local/lib/python3.8/site-packages/tensorflow/python/keras/engine/training.py:795 step_function  **\n        outputs = model.distribute_strategy.run(run_step, args=(data,))\n    /home/pooja/.local/lib/python3.8/site-packages/tensorflow/python/distribute/distribute_lib.py:1259 run\n        return self._extended.call_for_each_replica(fn, args=args, kwargs=kwargs)\n    /home/pooja/.local/lib/python3.8/site-packages/tensorflow/python/distribute/distribute_lib.py:2730 call_for_each_replica\n        return self._call_for_each_replica(fn, args, kwargs)\n    /home/pooja/.local/lib/python3.8/site-packages/tensorflow/python/distribute/distribute_lib.py:3417 _call_for_each_replica\n        return fn(*args, **kwargs)\n    /home/pooja/.local/lib/python3.8/site-packages/tensorflow/python/keras/engine/training.py:788 run_step  **\n        outputs = model.train_step(data)\n    /home/pooja/.local/lib/python3.8/site-packages/tensorflow/python/keras/engine/training.py:755 train_step\n        loss = self.compiled_loss(\n    /home/pooja/.local/lib/python3.8/site-packages/tensorflow/python/keras/engine/compile_utils.py:203 __call__\n        loss_value = loss_obj(y_t, y_p, sample_weight=sw)\n    /home/pooja/.local/lib/python3.8/site-packages/tensorflow/python/keras/losses.py:152 __call__\n        losses = call_fn(y_true, y_pred)\n    /home/pooja/.local/lib/python3.8/site-packages/tensorflow/python/keras/losses.py:256 call  **\n        return ag_fn(y_true, y_pred, **self._fn_kwargs)\n    /home/pooja/.local/lib/python3.8/site-packages/tensorflow/python/util/dispatch.py:201 wrapper\n        return target(*args, **kwargs)\n    /home/pooja/.local/lib/python3.8/site-packages/tensorflow/python/keras/losses.py:1537 categorical_crossentropy\n        return K.categorical_crossentropy(y_true, y_pred, from_logits=from_logits)\n    /home/pooja/.local/lib/python3.8/site-packages/tensorflow/python/util/dispatch.py:201 wrapper\n        return target(*args, **kwargs)\n    /home/pooja/.local/lib/python3.8/site-packages/tensorflow/python/keras/backend.py:4833 categorical_crossentropy\n        target.shape.assert_is_compatible_with(output.shape)\n    /home/pooja/.local/lib/python3.8/site-packages/tensorflow/python/framework/tensor_shape.py:1134 assert_is_compatible_with\n        raise ValueError(\"Shapes %s and %s are incompatible\" % (self, other))\n\n    ValueError: Shapes (32, 1) and (32, 10) are incompatible\n"
     ]
    }
   ],
   "source": [
    "tuner_vgg_L1reg.search(img_train, label_train, epochs=20, validation_split=0.2, callbacks=[stop_early])\n",
    "\n",
    "## get the optimal hyperparameters\n",
    "best_hp_vgg_L1reg=tuner_vgg_L1ref.get_best_hyperparameters(num_trials=1)[0]\n",
    "\n",
    "print(f\"\"\"\n",
    "The Optimal number of units in the first dense layeer is {best_hp_vgg_L1reg.get('units')} and \n",
    "the optimal learning rate for the optimal learning_rate is {best_hp_vgg_L1reg.get('learning_rate')}\"\"\")"
   ]
  },
  {
   "cell_type": "code",
   "execution_count": 87,
   "id": "moving-attribute",
   "metadata": {},
   "outputs": [
    {
     "data": {
      "text/plain": [
       "(60000, 28, 28, 1)"
      ]
     },
     "execution_count": 87,
     "metadata": {},
     "output_type": "execute_result"
    }
   ],
   "source": [
    "img_train.shape"
   ]
  },
  {
   "cell_type": "markdown",
   "id": "together-ladder",
   "metadata": {},
   "source": [
    "## Referenz.\n",
    "\n",
    "[kerastuner_on_RandomForest](https://github.com/keras-team/keras-tuner)"
   ]
  },
  {
   "cell_type": "code",
   "execution_count": null,
   "id": "painful-taiwan",
   "metadata": {},
   "outputs": [],
   "source": []
  }
 ],
 "metadata": {
  "kernelspec": {
   "display_name": "Python 3",
   "language": "python",
   "name": "python3"
  },
  "language_info": {
   "codemirror_mode": {
    "name": "ipython",
    "version": 3
   },
   "file_extension": ".py",
   "mimetype": "text/x-python",
   "name": "python",
   "nbconvert_exporter": "python",
   "pygments_lexer": "ipython3",
   "version": "3.8.0"
  }
 },
 "nbformat": 4,
 "nbformat_minor": 5
}
