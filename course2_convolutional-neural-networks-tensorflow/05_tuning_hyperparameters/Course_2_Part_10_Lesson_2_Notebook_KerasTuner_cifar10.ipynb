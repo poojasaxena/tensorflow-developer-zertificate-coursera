{
  "nbformat": 4,
  "nbformat_minor": 5,
  "metadata": {
    "kernelspec": {
      "display_name": "Python 3",
      "language": "python",
      "name": "python3"
    },
    "language_info": {
      "codemirror_mode": {
        "name": "ipython",
        "version": 3
      },
      "file_extension": ".py",
      "mimetype": "text/x-python",
      "name": "python",
      "nbconvert_exporter": "python",
      "pygments_lexer": "ipython3",
      "version": "3.8.0"
    },
    "varInspector": {
      "cols": {
        "lenName": 16,
        "lenType": 16,
        "lenVar": 40
      },
      "kernels_config": {
        "python": {
          "delete_cmd_postfix": "",
          "delete_cmd_prefix": "del ",
          "library": "var_list.py",
          "varRefreshCmd": "print(var_dic_list())"
        },
        "r": {
          "delete_cmd_postfix": ") ",
          "delete_cmd_prefix": "rm(",
          "library": "var_list.r",
          "varRefreshCmd": "cat(var_dic_list()) "
        }
      },
      "types_to_exclude": [
        "module",
        "function",
        "builtin_function_or_method",
        "instance",
        "_Feature"
      ],
      "window_display": false
    },
    "colab": {
      "name": "Course_2_Part_10_Lesson_2_Notebook_KerasTuner_cifar10.ipynb",
      "provenance": [],
      "include_colab_link": true
    },
    "accelerator": "GPU"
  },
  "cells": [
    {
      "cell_type": "markdown",
      "metadata": {
        "id": "view-in-github",
        "colab_type": "text"
      },
      "source": [
        "<a href=\"https://colab.research.google.com/github/poojasaxena/tensorflow-developer-zertificate-coursera/blob/main/course2_convolutional-neural-networks-tensorflow/05_tuning_hyperparameters/Course_2_Part_10_Lesson_2_Notebook_KerasTuner_cifar10.ipynb\" target=\"_parent\"><img src=\"https://colab.research.google.com/assets/colab-badge.svg\" alt=\"Open In Colab\"/></a>"
      ]
    },
    {
      "cell_type": "code",
      "metadata": {
        "id": "changing-hybrid",
        "outputId": "b3f9ed51-f3e1-4dd9-f354-a8abab3978d0",
        "colab": {
          "base_uri": "https://localhost:8080/",
          "height": 34
        }
      },
      "source": [
        "%autosave 120\n",
        "%matplotlib inline"
      ],
      "id": "changing-hybrid",
      "execution_count": 2,
      "outputs": [
        {
          "output_type": "display_data",
          "data": {
            "application/javascript": [
              "IPython.notebook.set_autosave_interval(120000)"
            ]
          },
          "metadata": {
            "tags": []
          }
        },
        {
          "output_type": "stream",
          "text": [
            "Autosaving every 120 seconds\n"
          ],
          "name": "stdout"
        }
      ]
    },
    {
      "cell_type": "markdown",
      "metadata": {
        "id": "unknown-class"
      },
      "source": [
        "\n",
        "\n",
        "\n",
        "# Step 1. Basic Setup"
      ],
      "id": "unknown-class"
    },
    {
      "cell_type": "code",
      "metadata": {
        "id": "remarkable-murray",
        "outputId": "789e1be2-6aa6-418a-d461-474f03e13670",
        "colab": {
          "base_uri": "https://localhost:8080/"
        }
      },
      "source": [
        "from platform import python_version\n",
        "print(python_version())"
      ],
      "id": "remarkable-murray",
      "execution_count": 3,
      "outputs": [
        {
          "output_type": "stream",
          "text": [
            "3.7.10\n"
          ],
          "name": "stdout"
        }
      ]
    },
    {
      "cell_type": "code",
      "metadata": {
        "id": "sticky-morgan",
        "outputId": "92e93fae-85d8-40bb-8bb5-18099724a705",
        "colab": {
          "base_uri": "https://localhost:8080/"
        }
      },
      "source": [
        "import tensorflow as tf\n",
        "from tensorflow import keras\n",
        "import matplotlib.pyplot as plt\n",
        "print(tf.__version__)"
      ],
      "id": "sticky-morgan",
      "execution_count": 4,
      "outputs": [
        {
          "output_type": "stream",
          "text": [
            "2.4.1\n"
          ],
          "name": "stdout"
        }
      ]
    },
    {
      "cell_type": "markdown",
      "metadata": {
        "id": "protective-fight"
      },
      "source": [
        "## Step 2.  KerasTuner Class"
      ],
      "id": "protective-fight"
    },
    {
      "cell_type": "code",
      "metadata": {
        "id": "oTy91v5uNW-X",
        "outputId": "b7a77219-400b-49b1-b94b-4982eedb1794",
        "colab": {
          "base_uri": "https://localhost:8080/"
        }
      },
      "source": [
        "!pip install -q -U keras-tuner"
      ],
      "id": "oTy91v5uNW-X",
      "execution_count": 5,
      "outputs": [
        {
          "output_type": "stream",
          "text": [
            "\u001b[?25l\r\u001b[K     |█████▏                          | 10kB 18.7MB/s eta 0:00:01\r\u001b[K     |██████████▍                     | 20kB 22.7MB/s eta 0:00:01\r\u001b[K     |███████████████▋                | 30kB 18.3MB/s eta 0:00:01\r\u001b[K     |████████████████████▉           | 40kB 16.4MB/s eta 0:00:01\r\u001b[K     |██████████████████████████      | 51kB 12.3MB/s eta 0:00:01\r\u001b[K     |███████████████████████████████▎| 61kB 11.5MB/s eta 0:00:01\r\u001b[K     |████████████████████████████████| 71kB 5.6MB/s \n",
            "\u001b[?25h  Building wheel for keras-tuner (setup.py) ... \u001b[?25l\u001b[?25hdone\n",
            "  Building wheel for terminaltables (setup.py) ... \u001b[?25l\u001b[?25hdone\n"
          ],
          "name": "stdout"
        }
      ]
    },
    {
      "cell_type": "code",
      "metadata": {
        "id": "aE7jjiO9NLn3"
      },
      "source": [
        "import kerastuner as kt"
      ],
      "id": "aE7jjiO9NLn3",
      "execution_count": 6,
      "outputs": []
    },
    {
      "cell_type": "code",
      "metadata": {
        "id": "roman-therapist"
      },
      "source": [
        "from kerastuner import HyperModel\n",
        "\n",
        "class CustomHyperModel(HyperModel):\n",
        "\n",
        "    def __init__(self, L1=0):\n",
        "        self.L1=L1\n",
        "        \n",
        "    def build(self, hp):\n",
        "        INPUT_SHAPE= (32, 32, 3)\n",
        "        \n",
        "        model = keras.Sequential()        \n",
        "        for i in range(hp.Int('conv_blocks', 3, 5, default=3)):\n",
        "            filters = hp.Int('filters_' + str(i), 32, 256, step=32)\n",
        "            \n",
        "            for _ in range(2):\n",
        "                model.add(keras.layers.Conv2D(filters, kernel_size=(3,3), padding='same', input_shape=INPUT_SHAPE))\n",
        "                model.add(keras.layers.BatchNormalization())\n",
        "                model.add(keras.layers.ReLU())\n",
        "            \n",
        "            if hp.Choice('pooling' + str(i), ['avg', 'max']) == 'max' :\n",
        "                model.add(keras.layers.MaxPooling2D())\n",
        "            else:\n",
        "                model.add(keras.layers.AvgPool2D())\n",
        "        \n",
        "        model.add(keras.layers.GlobalAvgPool2D())\n",
        "        model.add(keras.layers.Dense(hp.Int('hidden_size', 30, 100, step=10, default=50), activation='relu',kernel_regularizer=tf.keras.regularizers.L1(l1=self.L1)))\n",
        "        model.add(keras.layers.Dropout(hp.Float('dropout', 0, 0.5, step=0.1, default=0.5)))\n",
        "        model.add(keras.layers.Dense(10, activation='softmax'))\n",
        "\n",
        "        \n",
        "        model.compile(optimizer=keras.optimizers.Adam(learning_rate=hp.Float('learning_rate', 1e-4, 1e-2, sampling='log')), \n",
        "                  loss='sparse_categorical_crossentropy', \n",
        "                  metrics=['accuracy'])\n",
        "        print(model.summary())\n",
        "        return model"
      ],
      "id": "roman-therapist",
      "execution_count": 7,
      "outputs": []
    },
    {
      "cell_type": "markdown",
      "metadata": {
        "id": "scheduled-michigan"
      },
      "source": [
        "### categorical_crossentropy vs sparse_categorical_crossentropy\n",
        "1. categorical_crossentropy (cce) produces a one-hot array containing the probable match for each category,\n",
        "2. sparse_categorical_crossentropy (scce) produces a category index of the most likely matching category."
      ],
      "id": "scheduled-michigan"
    },
    {
      "cell_type": "markdown",
      "metadata": {
        "id": "laughing-house"
      },
      "source": [
        "## Step 2.1. Instantiate the tuner"
      ],
      "id": "laughing-house"
    },
    {
      "cell_type": "code",
      "metadata": {
        "id": "premier-oregon",
        "outputId": "3c1264c8-f633-431e-e22f-4ba3845959b2",
        "colab": {
          "base_uri": "https://localhost:8080/"
        }
      },
      "source": [
        "import kerastuner as kt\n",
        "\n",
        "simple_hypermodel = CustomHyperModel()\n",
        "tuner = kt.Hyperband(simple_hypermodel,\n",
        "                    objective='val_accuracy', \n",
        "                    max_epochs=30,\n",
        "                    hyperband_iterations=2)"
      ],
      "id": "premier-oregon",
      "execution_count": 8,
      "outputs": [
        {
          "output_type": "stream",
          "text": [
            "Model: \"sequential\"\n",
            "_________________________________________________________________\n",
            "Layer (type)                 Output Shape              Param #   \n",
            "=================================================================\n",
            "conv2d (Conv2D)              (None, 32, 32, 32)        896       \n",
            "_________________________________________________________________\n",
            "batch_normalization (BatchNo (None, 32, 32, 32)        128       \n",
            "_________________________________________________________________\n",
            "re_lu (ReLU)                 (None, 32, 32, 32)        0         \n",
            "_________________________________________________________________\n",
            "conv2d_1 (Conv2D)            (None, 32, 32, 32)        9248      \n",
            "_________________________________________________________________\n",
            "batch_normalization_1 (Batch (None, 32, 32, 32)        128       \n",
            "_________________________________________________________________\n",
            "re_lu_1 (ReLU)               (None, 32, 32, 32)        0         \n",
            "_________________________________________________________________\n",
            "average_pooling2d (AveragePo (None, 16, 16, 32)        0         \n",
            "_________________________________________________________________\n",
            "conv2d_2 (Conv2D)            (None, 16, 16, 32)        9248      \n",
            "_________________________________________________________________\n",
            "batch_normalization_2 (Batch (None, 16, 16, 32)        128       \n",
            "_________________________________________________________________\n",
            "re_lu_2 (ReLU)               (None, 16, 16, 32)        0         \n",
            "_________________________________________________________________\n",
            "conv2d_3 (Conv2D)            (None, 16, 16, 32)        9248      \n",
            "_________________________________________________________________\n",
            "batch_normalization_3 (Batch (None, 16, 16, 32)        128       \n",
            "_________________________________________________________________\n",
            "re_lu_3 (ReLU)               (None, 16, 16, 32)        0         \n",
            "_________________________________________________________________\n",
            "average_pooling2d_1 (Average (None, 8, 8, 32)          0         \n",
            "_________________________________________________________________\n",
            "conv2d_4 (Conv2D)            (None, 8, 8, 32)          9248      \n",
            "_________________________________________________________________\n",
            "batch_normalization_4 (Batch (None, 8, 8, 32)          128       \n",
            "_________________________________________________________________\n",
            "re_lu_4 (ReLU)               (None, 8, 8, 32)          0         \n",
            "_________________________________________________________________\n",
            "conv2d_5 (Conv2D)            (None, 8, 8, 32)          9248      \n",
            "_________________________________________________________________\n",
            "batch_normalization_5 (Batch (None, 8, 8, 32)          128       \n",
            "_________________________________________________________________\n",
            "re_lu_5 (ReLU)               (None, 8, 8, 32)          0         \n",
            "_________________________________________________________________\n",
            "average_pooling2d_2 (Average (None, 4, 4, 32)          0         \n",
            "_________________________________________________________________\n",
            "global_average_pooling2d (Gl (None, 32)                0         \n",
            "_________________________________________________________________\n",
            "dense (Dense)                (None, 50)                1650      \n",
            "_________________________________________________________________\n",
            "dropout (Dropout)            (None, 50)                0         \n",
            "_________________________________________________________________\n",
            "dense_1 (Dense)              (None, 10)                510       \n",
            "=================================================================\n",
            "Total params: 50,064\n",
            "Trainable params: 49,680\n",
            "Non-trainable params: 384\n",
            "_________________________________________________________________\n",
            "None\n"
          ],
          "name": "stdout"
        }
      ]
    },
    {
      "cell_type": "markdown",
      "metadata": {
        "id": "twenty-rider"
      },
      "source": [
        "## Step 3. Dataset Preparation"
      ],
      "id": "twenty-rider"
    },
    {
      "cell_type": "markdown",
      "metadata": {
        "id": "fatal-guitar"
      },
      "source": [
        "### 3.1 tfds dataset preparation"
      ],
      "id": "fatal-guitar"
    },
    {
      "cell_type": "code",
      "metadata": {
        "id": "leNcu8Dthy1C"
      },
      "source": [
        "import tensorflow_datasets as tfds\n",
        "\n",
        "data = tfds.load(\"cifar10\")\n",
        "train_ds, test_ds = data[\"train\"], data[\"test\"]\n"
      ],
      "id": "leNcu8Dthy1C",
      "execution_count": null,
      "outputs": []
    },
    {
      "cell_type": "code",
      "metadata": {
        "id": "wJ3msViSiBeS"
      },
      "source": [
        "def standardize_record(record):\n",
        "    return tf.cast(record[\"image\"], tf.float32) / 255.0, record[\"label\"]\n",
        "\n",
        "\n",
        "train_ds = train_ds.map(standardize_record).cache().batch(64).shuffle(10000)\n",
        "test_ds = test_ds.map(standardize_record).cache().batch(64)"
      ],
      "id": "wJ3msViSiBeS",
      "execution_count": null,
      "outputs": []
    },
    {
      "cell_type": "markdown",
      "metadata": {
        "id": "informed-progress"
      },
      "source": [
        "### 3.2 keras.datasets"
      ],
      "id": "informed-progress"
    },
    {
      "cell_type": "code",
      "metadata": {
        "id": "generic-trance",
        "outputId": "e57436c9-1e48-4db0-c81b-711f0168362e",
        "colab": {
          "base_uri": "https://localhost:8080/"
        }
      },
      "source": [
        "(img_train, label_train), (img_test, label_test) = keras.datasets.cifar10.load_data()"
      ],
      "id": "generic-trance",
      "execution_count": 9,
      "outputs": [
        {
          "output_type": "stream",
          "text": [
            "Downloading data from https://www.cs.toronto.edu/~kriz/cifar-10-python.tar.gz\n",
            "170500096/170498071 [==============================] - 7s 0us/step\n"
          ],
          "name": "stdout"
        }
      ]
    },
    {
      "cell_type": "code",
      "metadata": {
        "id": "registered-phone",
        "outputId": "fa035b19-3493-4625-e581-c8b2f41b4b3f",
        "colab": {
          "base_uri": "https://localhost:8080/",
          "height": 264
        }
      },
      "source": [
        "## lets check the number of train/test images\n",
        "print('No of train images: ', img_train.shape)\n",
        "print('No of test images: ', img_test.shape)\n",
        "print('label format for trainig:', label_train.shape)\n",
        "print('label format for testing:', label_test.shape)\n",
        "print('unique lables are :', np.unique(label_train))"
      ],
      "id": "registered-phone",
      "execution_count": 10,
      "outputs": [
        {
          "output_type": "stream",
          "text": [
            "No of train images:  (50000, 32, 32, 3)\n",
            "No of test images:  (10000, 32, 32, 3)\n",
            "label format for trainig: (50000, 1)\n",
            "label format for testing: (10000, 1)\n"
          ],
          "name": "stdout"
        },
        {
          "output_type": "error",
          "ename": "NameError",
          "evalue": "ignored",
          "traceback": [
            "\u001b[0;31m---------------------------------------------------------------------------\u001b[0m",
            "\u001b[0;31mNameError\u001b[0m                                 Traceback (most recent call last)",
            "\u001b[0;32m<ipython-input-10-523d8ba4eb4a>\u001b[0m in \u001b[0;36m<module>\u001b[0;34m()\u001b[0m\n\u001b[1;32m      4\u001b[0m \u001b[0mprint\u001b[0m\u001b[0;34m(\u001b[0m\u001b[0;34m'label format for trainig:'\u001b[0m\u001b[0;34m,\u001b[0m \u001b[0mlabel_train\u001b[0m\u001b[0;34m.\u001b[0m\u001b[0mshape\u001b[0m\u001b[0;34m)\u001b[0m\u001b[0;34m\u001b[0m\u001b[0;34m\u001b[0m\u001b[0m\n\u001b[1;32m      5\u001b[0m \u001b[0mprint\u001b[0m\u001b[0;34m(\u001b[0m\u001b[0;34m'label format for testing:'\u001b[0m\u001b[0;34m,\u001b[0m \u001b[0mlabel_test\u001b[0m\u001b[0;34m.\u001b[0m\u001b[0mshape\u001b[0m\u001b[0;34m)\u001b[0m\u001b[0;34m\u001b[0m\u001b[0;34m\u001b[0m\u001b[0m\n\u001b[0;32m----> 6\u001b[0;31m \u001b[0mprint\u001b[0m\u001b[0;34m(\u001b[0m\u001b[0;34m'unique lables are :'\u001b[0m\u001b[0;34m,\u001b[0m \u001b[0mnp\u001b[0m\u001b[0;34m.\u001b[0m\u001b[0munique\u001b[0m\u001b[0;34m(\u001b[0m\u001b[0mlabel_train\u001b[0m\u001b[0;34m)\u001b[0m\u001b[0;34m)\u001b[0m\u001b[0;34m\u001b[0m\u001b[0;34m\u001b[0m\u001b[0m\n\u001b[0m",
            "\u001b[0;31mNameError\u001b[0m: name 'np' is not defined"
          ]
        }
      ]
    },
    {
      "cell_type": "code",
      "metadata": {
        "id": "stretch-force"
      },
      "source": [
        "## normalize dataset\n",
        "img_train = img_train.astype('float32')/255.0\n",
        "img_test = img_test.astype('float32')/255.0"
      ],
      "id": "stretch-force",
      "execution_count": 11,
      "outputs": []
    },
    {
      "cell_type": "markdown",
      "metadata": {
        "id": "sitting-gamma"
      },
      "source": [
        "# Step 4. Hyperparameter Search\n",
        "* each model will train for at most 30 epochs and 2 iteratios of the Hyperband algo will be run."
      ],
      "id": "sitting-gamma"
    },
    {
      "cell_type": "code",
      "metadata": {
        "id": "destroyed-retailer",
        "outputId": "c08369fb-af20-4cf7-d67d-16c8636980c7",
        "colab": {
          "base_uri": "https://localhost:8080/"
        }
      },
      "source": [
        "tuner.search(img_train, label_train, epochs=12, validation_split=0.2)\n",
        "# tuner.search(train_ds, validation_data=test_ds, callbacks=[tf.keras.callbacks.EarlyStopping(patience=1)])\n",
        "\n",
        "## get the optimal hyperparameters\n",
        "best_hyperparameters=tuner.get_best_hyperparameters(num_trials=1)[0]\n",
        "\n",
        "print(f\"\"\"\n",
        "The Optimal number of units in the first dense layeer is {best_hyperparameters.get('hidden_size')} and \n",
        "the optimal learning rate for the optimal learning_rate is {best_hyperparameters.get('learning_rate')}\"\"\")"
      ],
      "id": "destroyed-retailer",
      "execution_count": null,
      "outputs": [
        {
          "output_type": "stream",
          "text": [
            "Trial 71 Complete [00h 06m 01s]\n",
            "val_accuracy: 0.7610999941825867\n",
            "\n",
            "Best val_accuracy So Far: 0.8345999717712402\n",
            "Total elapsed time: 03h 45m 44s\n",
            "\n",
            "Search: Running Trial #72\n",
            "\n",
            "Hyperparameter    |Value             |Best Value So Far \n",
            "conv_blocks       |5                 |4                 \n",
            "filters_0         |128               |128               \n",
            "pooling0          |avg               |avg               \n",
            "filters_1         |96                |192               \n",
            "pooling1          |avg               |avg               \n",
            "filters_2         |224               |128               \n",
            "pooling2          |avg               |avg               \n",
            "hidden_size       |100               |70                \n",
            "dropout           |0.1               |0.2               \n",
            "learning_rate     |0.0015373         |0.00017981        \n",
            "filters_3         |224               |192               \n",
            "pooling3          |max               |avg               \n",
            "filters_4         |64                |96                \n",
            "pooling4          |max               |avg               \n",
            "tuner/epochs      |10                |30                \n",
            "tuner/initial_e...|4                 |10                \n",
            "tuner/bracket     |2                 |3                 \n",
            "tuner/round       |1                 |3                 \n",
            "tuner/trial_id    |e65607e35d10ac6...|9a283da013a97e2...\n",
            "\n",
            "Model: \"sequential\"\n",
            "_________________________________________________________________\n",
            "Layer (type)                 Output Shape              Param #   \n",
            "=================================================================\n",
            "conv2d (Conv2D)              (None, 32, 32, 128)       3584      \n",
            "_________________________________________________________________\n",
            "batch_normalization (BatchNo (None, 32, 32, 128)       512       \n",
            "_________________________________________________________________\n",
            "re_lu (ReLU)                 (None, 32, 32, 128)       0         \n",
            "_________________________________________________________________\n",
            "conv2d_1 (Conv2D)            (None, 32, 32, 128)       147584    \n",
            "_________________________________________________________________\n",
            "batch_normalization_1 (Batch (None, 32, 32, 128)       512       \n",
            "_________________________________________________________________\n",
            "re_lu_1 (ReLU)               (None, 32, 32, 128)       0         \n",
            "_________________________________________________________________\n",
            "average_pooling2d (AveragePo (None, 16, 16, 128)       0         \n",
            "_________________________________________________________________\n",
            "conv2d_2 (Conv2D)            (None, 16, 16, 96)        110688    \n",
            "_________________________________________________________________\n",
            "batch_normalization_2 (Batch (None, 16, 16, 96)        384       \n",
            "_________________________________________________________________\n",
            "re_lu_2 (ReLU)               (None, 16, 16, 96)        0         \n",
            "_________________________________________________________________\n",
            "conv2d_3 (Conv2D)            (None, 16, 16, 96)        83040     \n",
            "_________________________________________________________________\n",
            "batch_normalization_3 (Batch (None, 16, 16, 96)        384       \n",
            "_________________________________________________________________\n",
            "re_lu_3 (ReLU)               (None, 16, 16, 96)        0         \n",
            "_________________________________________________________________\n",
            "average_pooling2d_1 (Average (None, 8, 8, 96)          0         \n",
            "_________________________________________________________________\n",
            "conv2d_4 (Conv2D)            (None, 8, 8, 224)         193760    \n",
            "_________________________________________________________________\n",
            "batch_normalization_4 (Batch (None, 8, 8, 224)         896       \n",
            "_________________________________________________________________\n",
            "re_lu_4 (ReLU)               (None, 8, 8, 224)         0         \n",
            "_________________________________________________________________\n",
            "conv2d_5 (Conv2D)            (None, 8, 8, 224)         451808    \n",
            "_________________________________________________________________\n",
            "batch_normalization_5 (Batch (None, 8, 8, 224)         896       \n",
            "_________________________________________________________________\n",
            "re_lu_5 (ReLU)               (None, 8, 8, 224)         0         \n",
            "_________________________________________________________________\n",
            "average_pooling2d_2 (Average (None, 4, 4, 224)         0         \n",
            "_________________________________________________________________\n",
            "conv2d_6 (Conv2D)            (None, 4, 4, 224)         451808    \n",
            "_________________________________________________________________\n",
            "batch_normalization_6 (Batch (None, 4, 4, 224)         896       \n",
            "_________________________________________________________________\n",
            "re_lu_6 (ReLU)               (None, 4, 4, 224)         0         \n",
            "_________________________________________________________________\n",
            "conv2d_7 (Conv2D)            (None, 4, 4, 224)         451808    \n",
            "_________________________________________________________________\n",
            "batch_normalization_7 (Batch (None, 4, 4, 224)         896       \n",
            "_________________________________________________________________\n",
            "re_lu_7 (ReLU)               (None, 4, 4, 224)         0         \n",
            "_________________________________________________________________\n",
            "max_pooling2d (MaxPooling2D) (None, 2, 2, 224)         0         \n",
            "_________________________________________________________________\n",
            "conv2d_8 (Conv2D)            (None, 2, 2, 64)          129088    \n",
            "_________________________________________________________________\n",
            "batch_normalization_8 (Batch (None, 2, 2, 64)          256       \n",
            "_________________________________________________________________\n",
            "re_lu_8 (ReLU)               (None, 2, 2, 64)          0         \n",
            "_________________________________________________________________\n",
            "conv2d_9 (Conv2D)            (None, 2, 2, 64)          36928     \n",
            "_________________________________________________________________\n",
            "batch_normalization_9 (Batch (None, 2, 2, 64)          256       \n",
            "_________________________________________________________________\n",
            "re_lu_9 (ReLU)               (None, 2, 2, 64)          0         \n",
            "_________________________________________________________________\n",
            "max_pooling2d_1 (MaxPooling2 (None, 1, 1, 64)          0         \n",
            "_________________________________________________________________\n",
            "global_average_pooling2d (Gl (None, 64)                0         \n",
            "_________________________________________________________________\n",
            "dense (Dense)                (None, 100)               6500      \n",
            "_________________________________________________________________\n",
            "dropout (Dropout)            (None, 100)               0         \n",
            "_________________________________________________________________\n",
            "dense_1 (Dense)              (None, 10)                1010      \n",
            "=================================================================\n",
            "Total params: 2,073,494\n",
            "Trainable params: 2,070,550\n",
            "Non-trainable params: 2,944\n",
            "_________________________________________________________________\n",
            "None\n",
            "Epoch 5/10\n",
            "   6/1250 [..............................] - ETA: 1:03 - loss: 2.5435 - accuracy: 0.0980WARNING:tensorflow:Callback method `on_train_batch_end` is slow compared to the batch time (batch time: 0.0145s vs `on_train_batch_end` time: 0.0369s). Check your callbacks.\n",
            "1250/1250 [==============================] - 54s 42ms/step - loss: 1.8247 - accuracy: 0.3171 - val_loss: 1.4666 - val_accuracy: 0.4705\n",
            "Epoch 6/10\n",
            "1250/1250 [==============================] - 52s 41ms/step - loss: 1.2103 - accuracy: 0.5659 - val_loss: 1.1114 - val_accuracy: 0.6057\n",
            "Epoch 7/10\n",
            "1250/1250 [==============================] - 52s 41ms/step - loss: 0.9231 - accuracy: 0.6834 - val_loss: 1.1562 - val_accuracy: 0.6240\n",
            "Epoch 8/10\n",
            "1250/1250 [==============================] - 52s 41ms/step - loss: 0.7254 - accuracy: 0.7534 - val_loss: 0.8789 - val_accuracy: 0.7080\n",
            "Epoch 9/10\n",
            "1046/1250 [========================>.....] - ETA: 7s - loss: 0.6061 - accuracy: 0.7923"
          ],
          "name": "stdout"
        }
      ]
    },
    {
      "cell_type": "code",
      "metadata": {
        "id": "ppA_GqWWNoid"
      },
      "source": [
        "# Build the model with the optimal hyperparamers and train it on the data for 20 epochs\n",
        "model=tuner.hypermodel.build(best_hyperparameters)\n",
        "history=model.fit(img_train, label_train, epochs=10, validation_split=0.2)\n",
        "\n",
        "val_acc_per_epoch = history.history['val_accuracy']\n",
        "best_epoch = val_acc_per_epoch.index(max(val_acc_per_epoch)) +1\n",
        "print('Best epoch: %d' % (best_epoch,))"
      ],
      "id": "ppA_GqWWNoid",
      "execution_count": null,
      "outputs": []
    },
    {
      "cell_type": "code",
      "metadata": {
        "id": "fhUonAypYmsr"
      },
      "source": [
        ""
      ],
      "id": "fhUonAypYmsr",
      "execution_count": null,
      "outputs": []
    }
  ]
}