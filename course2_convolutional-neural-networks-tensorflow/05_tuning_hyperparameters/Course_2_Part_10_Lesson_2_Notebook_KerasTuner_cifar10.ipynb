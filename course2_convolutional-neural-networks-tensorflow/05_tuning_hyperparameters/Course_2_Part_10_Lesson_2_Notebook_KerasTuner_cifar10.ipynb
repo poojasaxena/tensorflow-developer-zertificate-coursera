{
 "cells": [
  {
   "cell_type": "code",
   "execution_count": 18,
   "id": "changing-hybrid",
   "metadata": {},
   "outputs": [
    {
     "data": {
      "application/javascript": [
       "IPython.notebook.set_autosave_interval(120000)"
      ]
     },
     "metadata": {},
     "output_type": "display_data"
    },
    {
     "name": "stdout",
     "output_type": "stream",
     "text": [
      "Autosaving every 120 seconds\n"
     ]
    }
   ],
   "source": [
    "%autosave 120\n",
    "%matplotlib inline"
   ]
  },
  {
   "cell_type": "markdown",
   "id": "unknown-class",
   "metadata": {},
   "source": [
    "# Step 1. Basic Setup"
   ]
  },
  {
   "cell_type": "code",
   "execution_count": 17,
   "id": "remarkable-murray",
   "metadata": {},
   "outputs": [
    {
     "name": "stdout",
     "output_type": "stream",
     "text": [
      "3.8.0\n"
     ]
    }
   ],
   "source": [
    "from platform import python_version\n",
    "print(python_version())"
   ]
  },
  {
   "cell_type": "code",
   "execution_count": 19,
   "id": "sticky-morgan",
   "metadata": {},
   "outputs": [
    {
     "name": "stdout",
     "output_type": "stream",
     "text": [
      "2.4.1\n"
     ]
    }
   ],
   "source": [
    "import tensorflow as tf\n",
    "from tensorflow import keras\n",
    "import matplotlib.pyplot as plt\n",
    "print(tf.__version__)"
   ]
  },
  {
   "cell_type": "markdown",
   "id": "protective-fight",
   "metadata": {},
   "source": [
    "## Step 2.  KerasTuner Class"
   ]
  },
  {
   "cell_type": "code",
   "execution_count": 22,
   "id": "roman-therapist",
   "metadata": {},
   "outputs": [],
   "source": [
    "from kerastuner import HyperModel\n",
    "\n",
    "class CustomHyperModel(HyperModel):\n",
    "\n",
    "    def __init__(self, L1=0):\n",
    "        self.L1=L1\n",
    "        \n",
    "    def build(self, hp):\n",
    "        INPUT_SHAPE= (32, 32, 3)\n",
    "        \n",
    "        model = keras.Sequential()        \n",
    "        for i in range(hp.Int('conv_blocks', 3, 5, default=3)):\n",
    "            filters = hp.Int('filters_' + str(i), 32, 256, step=32)\n",
    "            \n",
    "            for _ in range(2):\n",
    "                model.add(keras.layers.Conv2D(filters, kernel_size=(3,3), padding='same', input_shape=INPUT_SHAPE))\n",
    "                model.add(keras.layers.BatchNormalization())\n",
    "                model.add(keras.layers.ReLU())\n",
    "            \n",
    "            if hp.Choice('pooling' + str(i), ['avg', 'max']) == 'max' :\n",
    "                model.add(keras.layers.MaxPooling2D())\n",
    "            else:\n",
    "                model.add(keras.layers.AvgPool2D())\n",
    "        \n",
    "        model.add(keras.layers.GlobalAvgPool2D())\n",
    "        model.add(keras.layers.Dense(hp.Int('hidden_size', 30, 100, step=10, default=50), activation='relu',kernel_regularizer=tf.keras.regularizers.L1(l1=self.L1)))\n",
    "        model.add(keras.layers.Dropout(hp.Float('dropout', 0, 0.5, step=0.1, default=0.5)))\n",
    "        model.add(keras.layers.Dense(10, activation='softmax'))\n",
    "\n",
    "        \n",
    "        model.compile(optimizer=keras.optimizers.Adam(learning_rate=hp.Float('learning_rate', 1e-4, 1e-2, sampling='log')), \n",
    "                  loss='sparse_categorical_crossentropy', \n",
    "                  metrics=['accuracy'])\n",
    "        print(model.summary())\n",
    "        return model"
   ]
  },
  {
   "cell_type": "markdown",
   "id": "scheduled-michigan",
   "metadata": {},
   "source": [
    "### categorical_crossentropy vs sparse_categorical_crossentropy\n",
    "1. categorical_crossentropy (cce) produces a one-hot array containing the probable match for each category,\n",
    "2. sparse_categorical_crossentropy (scce) produces a category index of the most likely matching category."
   ]
  },
  {
   "cell_type": "markdown",
   "id": "laughing-house",
   "metadata": {},
   "source": [
    "## Step 2.1. Instantiate the tuner"
   ]
  },
  {
   "cell_type": "code",
   "execution_count": 23,
   "id": "premier-oregon",
   "metadata": {},
   "outputs": [
    {
     "name": "stdout",
     "output_type": "stream",
     "text": [
      "Model: \"sequential\"\n",
      "_________________________________________________________________\n",
      "Layer (type)                 Output Shape              Param #   \n",
      "=================================================================\n",
      "conv2d (Conv2D)              (None, 32, 32, 32)        896       \n",
      "_________________________________________________________________\n",
      "batch_normalization (BatchNo (None, 32, 32, 32)        128       \n",
      "_________________________________________________________________\n",
      "re_lu (ReLU)                 (None, 32, 32, 32)        0         \n",
      "_________________________________________________________________\n",
      "conv2d_1 (Conv2D)            (None, 32, 32, 32)        9248      \n",
      "_________________________________________________________________\n",
      "batch_normalization_1 (Batch (None, 32, 32, 32)        128       \n",
      "_________________________________________________________________\n",
      "re_lu_1 (ReLU)               (None, 32, 32, 32)        0         \n",
      "_________________________________________________________________\n",
      "average_pooling2d (AveragePo (None, 16, 16, 32)        0         \n",
      "_________________________________________________________________\n",
      "conv2d_2 (Conv2D)            (None, 16, 16, 32)        9248      \n",
      "_________________________________________________________________\n",
      "batch_normalization_2 (Batch (None, 16, 16, 32)        128       \n",
      "_________________________________________________________________\n",
      "re_lu_2 (ReLU)               (None, 16, 16, 32)        0         \n",
      "_________________________________________________________________\n",
      "conv2d_3 (Conv2D)            (None, 16, 16, 32)        9248      \n",
      "_________________________________________________________________\n",
      "batch_normalization_3 (Batch (None, 16, 16, 32)        128       \n",
      "_________________________________________________________________\n",
      "re_lu_3 (ReLU)               (None, 16, 16, 32)        0         \n",
      "_________________________________________________________________\n",
      "average_pooling2d_1 (Average (None, 8, 8, 32)          0         \n",
      "_________________________________________________________________\n",
      "conv2d_4 (Conv2D)            (None, 8, 8, 32)          9248      \n",
      "_________________________________________________________________\n",
      "batch_normalization_4 (Batch (None, 8, 8, 32)          128       \n",
      "_________________________________________________________________\n",
      "re_lu_4 (ReLU)               (None, 8, 8, 32)          0         \n",
      "_________________________________________________________________\n",
      "conv2d_5 (Conv2D)            (None, 8, 8, 32)          9248      \n",
      "_________________________________________________________________\n",
      "batch_normalization_5 (Batch (None, 8, 8, 32)          128       \n",
      "_________________________________________________________________\n",
      "re_lu_5 (ReLU)               (None, 8, 8, 32)          0         \n",
      "_________________________________________________________________\n",
      "average_pooling2d_2 (Average (None, 4, 4, 32)          0         \n",
      "_________________________________________________________________\n",
      "global_average_pooling2d (Gl (None, 32)                0         \n",
      "_________________________________________________________________\n",
      "dense (Dense)                (None, 50)                1650      \n",
      "_________________________________________________________________\n",
      "dropout (Dropout)            (None, 50)                0         \n",
      "_________________________________________________________________\n",
      "dense_1 (Dense)              (None, 10)                510       \n",
      "=================================================================\n",
      "Total params: 50,064\n",
      "Trainable params: 49,680\n",
      "Non-trainable params: 384\n",
      "_________________________________________________________________\n",
      "None\n"
     ]
    }
   ],
   "source": [
    "import kerastuner as kt\n",
    "\n",
    "simple_hypermodel = CustomHyperModel()\n",
    "tuner = kt.Hyperband(simple_hypermodel,\n",
    "                    objective='val_accuracy', \n",
    "                    max_epochs=30,\n",
    "                    hyperband_iterations=2)"
   ]
  },
  {
   "cell_type": "markdown",
   "id": "twenty-rider",
   "metadata": {},
   "source": [
    "## Step 3. Dataset Preparation"
   ]
  },
  {
   "cell_type": "markdown",
   "id": "fatal-guitar",
   "metadata": {},
   "source": [
    "### 3.1 tfds dataset preparation"
   ]
  },
  {
   "cell_type": "markdown",
   "id": "informed-progress",
   "metadata": {},
   "source": [
    "### 3.2 keras.datasets"
   ]
  },
  {
   "cell_type": "code",
   "execution_count": 25,
   "id": "generic-trance",
   "metadata": {},
   "outputs": [],
   "source": [
    "(img_train, label_train), (img_test, label_test) = keras.datasets.cifar10.load_data()"
   ]
  },
  {
   "cell_type": "code",
   "execution_count": 26,
   "id": "registered-phone",
   "metadata": {},
   "outputs": [
    {
     "name": "stdout",
     "output_type": "stream",
     "text": [
      "No of train images:  (50000, 32, 32, 3)\n",
      "No of test images:  (10000, 32, 32, 3)\n",
      "label format for trainig: (50000, 1)\n",
      "label format for testing: (10000, 1)\n",
      "unique lables are : [0 1 2 3 4 5 6 7 8 9]\n"
     ]
    }
   ],
   "source": [
    "## lets check the number of train/test images\n",
    "print('No of train images: ', img_train.shape)\n",
    "print('No of test images: ', img_test.shape)\n",
    "print('label format for trainig:', label_train.shape)\n",
    "print('label format for testing:', label_test.shape)\n",
    "print('unique lables are :', np.unique(label_train))"
   ]
  },
  {
   "cell_type": "code",
   "execution_count": 28,
   "id": "stretch-force",
   "metadata": {},
   "outputs": [],
   "source": [
    "## normalize dataset\n",
    "img_train = img_train.astype('float32')/255.0\n",
    "img_test = img_test.astype('float32')/255.0"
   ]
  },
  {
   "cell_type": "markdown",
   "id": "sitting-gamma",
   "metadata": {},
   "source": [
    "# Step 4. Hyperparameter Search\n",
    "* each model will train for at most 15 epochs and 2 iteratios of the Hyperband algo will be run."
   ]
  },
  {
   "cell_type": "code",
   "execution_count": null,
   "id": "destroyed-retailer",
   "metadata": {},
   "outputs": [],
   "source": [
    "tuner.search(img_train, label_train, epochs=15, validation_split=0.2)\n",
    "\n",
    "## get the optimal hyperparameters\n",
    "best_hyperparameters=tuner.get_best_hyperparameters(num_trials=1)[0]\n",
    "\n",
    "print(f\"\"\"\n",
    "The Optimal number of units in the first dense layeer is {best_hyperparameters.get('hidden_size')} and \n",
    "the optimal learning rate for the optimal learning_rate is {best_hyperparameters.get('learning_rate')}\"\"\")"
   ]
  }
 ],
 "metadata": {
  "kernelspec": {
   "display_name": "Python 3",
   "language": "python",
   "name": "python3"
  },
  "language_info": {
   "codemirror_mode": {
    "name": "ipython",
    "version": 3
   },
   "file_extension": ".py",
   "mimetype": "text/x-python",
   "name": "python",
   "nbconvert_exporter": "python",
   "pygments_lexer": "ipython3",
   "version": "3.8.0"
  },
  "varInspector": {
   "cols": {
    "lenName": 16,
    "lenType": 16,
    "lenVar": 40
   },
   "kernels_config": {
    "python": {
     "delete_cmd_postfix": "",
     "delete_cmd_prefix": "del ",
     "library": "var_list.py",
     "varRefreshCmd": "print(var_dic_list())"
    },
    "r": {
     "delete_cmd_postfix": ") ",
     "delete_cmd_prefix": "rm(",
     "library": "var_list.r",
     "varRefreshCmd": "cat(var_dic_list()) "
    }
   },
   "types_to_exclude": [
    "module",
    "function",
    "builtin_function_or_method",
    "instance",
    "_Feature"
   ],
   "window_display": false
  }
 },
 "nbformat": 4,
 "nbformat_minor": 5
}
